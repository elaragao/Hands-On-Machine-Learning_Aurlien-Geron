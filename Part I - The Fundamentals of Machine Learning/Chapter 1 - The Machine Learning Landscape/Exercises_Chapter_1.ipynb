{
 "cells": [
  {
   "cell_type": "markdown",
   "id": "9bd97b5f",
   "metadata": {},
   "source": [
    "# Exercises"
   ]
  },
  {
   "cell_type": "markdown",
   "id": "2b2db91e",
   "metadata": {},
   "source": [
    "## 1. How would you define machine learning?"
   ]
  },
  {
   "cell_type": "markdown",
   "id": "ad2cb49f",
   "metadata": {},
   "source": []
  },
  {
   "cell_type": "markdown",
   "id": "c3cc5d40",
   "metadata": {},
   "source": [
    "## 2. Can you name four types of applications where it shines?"
   ]
  },
  {
   "cell_type": "markdown",
   "id": "27373a3c",
   "metadata": {},
   "source": []
  },
  {
   "cell_type": "markdown",
   "id": "896ff864",
   "metadata": {},
   "source": [
    "## 3. What is a labeled training set?"
   ]
  },
  {
   "cell_type": "markdown",
   "id": "b9e7fab5",
   "metadata": {},
   "source": []
  },
  {
   "cell_type": "markdown",
   "id": "205eacbf",
   "metadata": {},
   "source": [
    "## 4. What are the two most common supervised tasks?"
   ]
  },
  {
   "cell_type": "markdown",
   "id": "af63d469",
   "metadata": {},
   "source": []
  },
  {
   "cell_type": "markdown",
   "id": "0117169c",
   "metadata": {},
   "source": [
    "## 5. Can you name four common unsupervised tasks?"
   ]
  },
  {
   "cell_type": "markdown",
   "id": "0935102d",
   "metadata": {},
   "source": []
  },
  {
   "cell_type": "markdown",
   "id": "275c8a6c",
   "metadata": {},
   "source": [
    "## 6. What type of algorithm would you use to allow a robot to walk in various unknown terrains?"
   ]
  },
  {
   "cell_type": "markdown",
   "id": "d46dd750",
   "metadata": {},
   "source": []
  },
  {
   "cell_type": "markdown",
   "id": "ac5dd47b",
   "metadata": {},
   "source": [
    "## 7. What type of algorithm would you use to segment your customers into multiple groups?"
   ]
  },
  {
   "cell_type": "markdown",
   "id": "1b7d1e53",
   "metadata": {},
   "source": []
  },
  {
   "cell_type": "markdown",
   "id": "851ac410",
   "metadata": {},
   "source": [
    "## 8. Would you frame the problem of spam detection as a supervised learning problem or an unsupervised learning problem?"
   ]
  },
  {
   "cell_type": "markdown",
   "id": "d109c4f7",
   "metadata": {},
   "source": []
  },
  {
   "cell_type": "markdown",
   "id": "9e047e09",
   "metadata": {},
   "source": [
    "## 9. What is an online learning system?"
   ]
  },
  {
   "cell_type": "markdown",
   "id": "69d01b5a",
   "metadata": {},
   "source": []
  },
  {
   "cell_type": "markdown",
   "id": "df2b15e3",
   "metadata": {},
   "source": [
    "## 10. What is out-of-core learning?"
   ]
  },
  {
   "cell_type": "markdown",
   "id": "07b4926a",
   "metadata": {},
   "source": []
  },
  {
   "cell_type": "markdown",
   "id": "91706e67",
   "metadata": {},
   "source": [
    "## 11. What type of algorithm relies on a similarity measure to make predictions?"
   ]
  },
  {
   "cell_type": "markdown",
   "id": "e92d5764",
   "metadata": {},
   "source": []
  },
  {
   "cell_type": "markdown",
   "id": "4198993e",
   "metadata": {},
   "source": [
    "## 12. What is the difference between a model parameter and a model hyperparameter?"
   ]
  },
  {
   "cell_type": "markdown",
   "id": "737b7f5b",
   "metadata": {},
   "source": []
  },
  {
   "cell_type": "markdown",
   "id": "040913c4",
   "metadata": {},
   "source": [
    "## 13. What do model-based algorithms search for? What is the most common strategy they use to succeed? How do they make predictions?"
   ]
  },
  {
   "cell_type": "markdown",
   "id": "a8114d79",
   "metadata": {},
   "source": []
  },
  {
   "cell_type": "markdown",
   "id": "ad20788a",
   "metadata": {},
   "source": [
    "## 14. Can you name four of the main challenges in machine learning?"
   ]
  },
  {
   "cell_type": "markdown",
   "id": "c886abbf",
   "metadata": {},
   "source": []
  },
  {
   "cell_type": "markdown",
   "id": "8261be58",
   "metadata": {},
   "source": [
    "## 15. If your model performs great on the training data but generalizes poorly to new instances, what is happening? Can you name three possible solutions?"
   ]
  },
  {
   "cell_type": "markdown",
   "id": "f24dcded",
   "metadata": {},
   "source": []
  },
  {
   "cell_type": "markdown",
   "id": "4c4bf698",
   "metadata": {},
   "source": [
    "## 16. What is a test set, and why would you want to use it?"
   ]
  },
  {
   "cell_type": "markdown",
   "id": "514c169d",
   "metadata": {},
   "source": []
  },
  {
   "cell_type": "markdown",
   "id": "c95cd076",
   "metadata": {},
   "source": [
    "## 17. What is the purpose of a validation set?"
   ]
  },
  {
   "cell_type": "markdown",
   "id": "50a5966d",
   "metadata": {},
   "source": []
  },
  {
   "cell_type": "markdown",
   "id": "3076bd48",
   "metadata": {},
   "source": [
    "## 18. What is the train-dev set, when do you need it, and how do you use it?"
   ]
  },
  {
   "cell_type": "markdown",
   "id": "a13a7485",
   "metadata": {},
   "source": []
  },
  {
   "cell_type": "markdown",
   "id": "1e742d84",
   "metadata": {},
   "source": [
    "## 19. What can go wrong if you tune hyperparameters using the test set?"
   ]
  },
  {
   "cell_type": "markdown",
   "id": "c92670b9",
   "metadata": {},
   "source": []
  }
 ],
 "metadata": {
  "kernelspec": {
   "display_name": "Python 3 (ipykernel)",
   "language": "python",
   "name": "python3"
  },
  "language_info": {
   "codemirror_mode": {
    "name": "ipython",
    "version": 3
   },
   "file_extension": ".py",
   "mimetype": "text/x-python",
   "name": "python",
   "nbconvert_exporter": "python",
   "pygments_lexer": "ipython3",
   "version": "3.9.12"
  }
 },
 "nbformat": 4,
 "nbformat_minor": 5
}
