{
 "cells": [
  {
   "cell_type": "markdown",
   "id": "bebca2da",
   "metadata": {},
   "source": [
    "# Chapter 01 - The Machine Learning Landscape"
   ]
  },
  {
   "cell_type": "markdown",
   "id": "5d19c755",
   "metadata": {},
   "source": [
    "In this chapter, the basic concepts of Machine Learning, basic applications and types of ways to classify algorithms will be briefly analyzed."
   ]
  },
  {
   "cell_type": "markdown",
   "id": "38a120ce",
   "metadata": {},
   "source": [
    "# Table of Contents\n",
    "* [What Is Machine Learning](#chapter1)\n",
    "\n",
    "* [Why Use Machine Learning?](#chapter2)\n",
    "\n",
    "* [Examples of Applications](#chapter3)\n",
    "\n",
    "* [Types of Machine Learning Systems](#chapter4)\n",
    "    * [Training Supervision](#section_4_1)\n",
    "    * [Batch Versus Online Learning](#section_4_2)\n",
    "    * [Instance-Based Versus Model-Based Learning](#section_4_3)\n",
    "\n",
    "* [Types of Machine Learning Systems](#chapter5)\n",
    "    * [Insufficient Quantity of Training Data](#section_5_1)\n",
    "    * [Nonrepresentative Training Data](#section_5_2)\n",
    "    * [Poor-Quality Data](#section_5_3)\n",
    "    * [Irrelevant Features](#section_5_4)\n",
    "    * [Overfitting the Training Data](#section_5_5)\n",
    "    * [Underfitting the Training Data](#section_5_6)\n",
    "    * [Stepping Back](#section_5_7)\n",
    "\n",
    "* [Testing and Validating](#chapter6)\n",
    "    * [Hyperparameter Tuning and Model Selection](#section_6_1)\n",
    "    * [Data Mismatch](#section_6_2)   \n",
    "    \n",
    "    \n",
    "<!------    \n",
    "* [Chapter 3](#chapter3)\n",
    "    * [Section 3.1](#section_3_1)\n",
    "        * [Sub Section 3.1.1](#sub_section_3_1_1)\n",
    "        * [Sub Section 3.1.2](#sub_section_3_1_2)\n",
    "    * [Section 3.2](#section_3_2)\n",
    "        * [Sub Section 3.2.1](#sub_section_3_2_1)\n",
    "-----> \n",
    "\n",
    "\n",
    "\n",
    "<!-----\n",
    "https://www.ibm.com/docs/en/db2-event-store/2.0.0?topic=notebooks-markdown-jupyter-cheatsheet\n",
    "------->"
   ]
  },
  {
   "cell_type": "markdown",
   "id": "4450c6ed",
   "metadata": {},
   "source": [
    "# What Is Machine Learning?  <a class=\"anchor\" id=\"chapter1\"></a>"
   ]
  },
  {
   "cell_type": "markdown",
   "id": "96bea6ea",
   "metadata": {},
   "source": [
    "A simple definition for this is making computers able to learn from data."
   ]
  },
  {
   "cell_type": "markdown",
   "id": "31535763",
   "metadata": {},
   "source": [
    "# Why Use Machine Learning? <a id=\"chapter2\"></a>"
   ]
  },
  {
   "cell_type": "markdown",
   "id": "d28d3ee2",
   "metadata": {},
   "source": [
    "- Get solutions to problems with a long list of rules or adjustments;\n",
    "- Get solutions or insights into complex problems;\n",
    "- Solve problems with constant updating and incrementing of data."
   ]
  },
  {
   "cell_type": "markdown",
   "id": "c99877cc",
   "metadata": {},
   "source": [
    "# Examples of Applications <a id=\"chapter3\"></a>"
   ]
  },
  {
   "cell_type": "markdown",
   "id": "7f37031d",
   "metadata": {},
   "source": [
    "Some brief examples of use are:\n",
    "\n",
    "- Disease detection through images;\n",
    "- Price prediction;\n",
    "- Analysis of products on the assembly line to identify anomalies;\n",
    "- Credit card fraud detection;\n",
    "- Product or series recommendation systems;\n",
    "- Creation of bots for games;"
   ]
  },
  {
   "cell_type": "markdown",
   "id": "8c78db0b",
   "metadata": {},
   "source": [
    "# Types of Machine Learning Systems <a id=\"chapter4\"></a>"
   ]
  },
  {
   "cell_type": "markdown",
   "id": "91f63737",
   "metadata": {},
   "source": [
    "The main ways to differentiate between types of Machine Learning are:\n",
    "\n",
    "- How is supervision done during training?\n",
    "    - Supervised, Unsupervised, Semi-supervised, etc.\n",
    "- Is the learning incremental?\n",
    "    - Online vs. Batch Learning\n",
    "- Do they operate by comparing known data or by analyzing patterns and building models?\n",
    "    - Instance-based vs. Model-based"
   ]
  },
  {
   "cell_type": "markdown",
   "id": "9a1d5e0b",
   "metadata": {},
   "source": [
    "## Training Supervision <a id=\"section_4_1\"></a>"
   ]
  },
  {
   "cell_type": "markdown",
   "id": "383eefd7",
   "metadata": {},
   "source": [
    "This classification is based on the level of supervision that occurs during training (a term used to refer mainly to possible labels)."
   ]
  },
  {
   "cell_type": "markdown",
   "id": "22d25838",
   "metadata": {},
   "source": [
    "### Supervised\n",
    "\n",
    "<b>Supervised</b> learning consists of the one that has the answer for the training, called <b>Label</b>. Mentioning two most common examples:\n",
    "\n",
    " - Classification: Classification between emails that are ham or spam;\n",
    "\n",
    " - Regression: Prediction of real estate prices based on real estate data.\n",
    "\n",
    "Some terms that will be highlighted here and will be used repeatedly throughout the chapters, applied in the context of Machine Learning and Datasets:\n",
    "\n",
    "- Instance: Each specific data, represented by the rows of the table;\n",
    "- Features: Characteristics of the instances, represented by the columns of the table;\n",
    "- Label: \"Answer\", the \"target value\", characteristic used for training as a target, for example, in the case of the previous classification whether it is ham or spam, if in the regression it is the price of the property;\n",
    "- Class: Classification of a certain analysis, such as ham or spam."
   ]
  },
  {
   "cell_type": "markdown",
   "id": "5d4c0149",
   "metadata": {},
   "source": [
    "### Unsupervised\n",
    "\n",
    "<b>Unsupervised</b> learning consists of learning that <b>does not have labels</b>. Some examples are:\n",
    "\n",
    "- Clustering: Grouping customers with common characteristics;\n",
    "- Dimensionality Reduction;\n",
    "- Anomaly Detection: For credit card fraud;\n",
    "- Novelty Detection;\n"
   ]
  },
  {
   "cell_type": "markdown",
   "id": "74c67067",
   "metadata": {},
   "source": [
    "### Semi-Supervised\n",
    "\n",
    "<b>Semi-Supervised</b> Learning consists of algorithms that have labels in a few instances and not in the rest."
   ]
  },
  {
   "cell_type": "markdown",
   "id": "e836a6f6",
   "metadata": {},
   "source": [
    "### Self-supervised\n",
    "\n",
    "<b>Self-Supervised</b> Learning consists of using a few labels that are present in the dataset to label the instances that do not have them. It often operates through clustering."
   ]
  },
  {
   "cell_type": "markdown",
   "id": "4d5e22cc",
   "metadata": {},
   "source": [
    "### Reinforcement\n",
    "\n",
    "<b>Reinforcement</b> Learning, in simpler terms, operates through an <i>Agent</i> (the learning system) acts through a <i>Policy</i> (Strategy defined by the agent) where each action results in a <i>Reward</i> or <i>Penalty</i>, influencing subsequent actions."
   ]
  },
  {
   "cell_type": "markdown",
   "id": "deddc2fa",
   "metadata": {},
   "source": [
    "## Batch Versus Online Learning <a id=\"section_4_2\"></a>"
   ]
  },
  {
   "cell_type": "markdown",
   "id": "f7dd8a35",
   "metadata": {},
   "source": [
    "It basically differs whether or not the system can learn incrementally from streaming data."
   ]
  },
  {
   "cell_type": "markdown",
   "id": "57edfe3b",
   "metadata": {},
   "source": [
    "### Batch Learning\n",
    "\n",
    "<b>Batch Learning</b> consists of a system incapable of learning incrementally, training using the available data."
   ]
  },
  {
   "cell_type": "markdown",
   "id": "0cc7a941",
   "metadata": {},
   "source": [
    "### Online Learning\n",
    "\n",
    "<b>Online Learning</b> consists of training incrementally with instances, either individually or in <i>Mini-Batches</i>."
   ]
  },
  {
   "cell_type": "markdown",
   "id": "31cf3e9b",
   "metadata": {},
   "source": [
    "## Instance-Based Versus Model-Based Learning <a id=\"section_4_3\"></a>"
   ]
  },
  {
   "cell_type": "markdown",
   "id": "bb60ce04",
   "metadata": {},
   "source": [
    "It defines the way in which the model generalization occurs, being able to either learn according to the similarities of existing instances, or the need to use a comparison model with different parameters and weights."
   ]
  },
  {
   "cell_type": "markdown",
   "id": "b75967ed",
   "metadata": {},
   "source": [
    "### Instance-Based Learning\n",
    "\n",
    "<b>Instance-Based Learning</b> relies on storing and using specific training instances to make predictions without building an explicit model. It compares new data points to existing instances using a <i>similarity measure</i>. Some examples are k-Nearest Neighbors."
   ]
  },
  {
   "cell_type": "markdown",
   "id": "4fbf2082",
   "metadata": {},
   "source": [
    "### Model-Based Learning\n",
    "\n",
    "<b>Model-Based Learning</b> builds a general model of the data during training, which is then used for making predictions. This approach involves learning parameters or weights to represent the data. Some examples are Linear Regression.\n"
   ]
  },
  {
   "cell_type": "markdown",
   "id": "b19832f6",
   "metadata": {},
   "source": [
    "In the code below, a dataset is observed to exemplify Instance and Model Based Learning."
   ]
  },
  {
   "cell_type": "code",
   "execution_count": 3,
   "id": "fcf75e7d",
   "metadata": {
    "scrolled": true
   },
   "outputs": [
    {
     "data": {
      "image/png": "[encoded data removed]",
      "text/plain": [
       "<Figure size 432x288 with 1 Axes>"
      ]
     },
     "metadata": {
      "needs_background": "light"
     },
     "output_type": "display_data"
    }
   ],
   "source": [
    "import matplotlib.pyplot as plt\n",
    "import numpy as np\n",
    "import pandas as pd\n",
    "\n",
    "# Download and prepare the data\n",
    "data_root = \"https://github.com/ageron/data/raw/main/\"\n",
    "lifesat = pd.read_csv(data_root + \"lifesat/lifesat.csv\")\n",
    "X = lifesat[[\"GDP per capita (USD)\"]].values\n",
    "y = lifesat[[\"Life satisfaction\"]].values\n",
    "\n",
    "# Visualize the data\n",
    "lifesat.plot(kind='scatter', grid=True,\n",
    "             x=\"GDP per capita (USD)\", y=\"Life satisfaction\")\n",
    "plt.axis([23_500, 62_500, 4, 9])\n",
    "plt.show()"
   ]
  },
  {
   "cell_type": "markdown",
   "id": "cbff45bc",
   "metadata": {},
   "source": [
    "Below is an example of <b>Model-Based</b> Learning, using Linear Regression as an example."
   ]
  },
  {
   "cell_type": "code",
   "execution_count": 4,
   "id": "7d77d0d0",
   "metadata": {},
   "outputs": [
    {
     "name": "stdout",
     "output_type": "stream",
     "text": [
      "[[6.30165767]]\n"
     ]
    }
   ],
   "source": [
    "from sklearn.linear_model import LinearRegression\n",
    "\n",
    "# Select a linear model\n",
    "model = LinearRegression()\n",
    "\n",
    "# Train the model\n",
    "model.fit(X, y)\n",
    "\n",
    "# Make a prediction for Cyprus\n",
    "X_new = [[37_655.2]]  # Cyprus' GDP per capita in 2020\n",
    "print(model.predict(X_new)) # outputs [[6.30165767]]"
   ]
  },
  {
   "cell_type": "markdown",
   "id": "ece62209",
   "metadata": {},
   "source": [
    "Below is an example of <b>Instance-Based</b> Learning, using K-Nearest Neighbors as an example."
   ]
  },
  {
   "cell_type": "code",
   "execution_count": 5,
   "id": "b3803996",
   "metadata": {},
   "outputs": [
    {
     "name": "stdout",
     "output_type": "stream",
     "text": [
      "[[6.33333333]]\n"
     ]
    }
   ],
   "source": [
    "# Select a 3-Nearest Neighbors regression model\n",
    "from sklearn.neighbors import KNeighborsRegressor\n",
    "\n",
    "model = KNeighborsRegressor(n_neighbors=3)\n",
    "\n",
    "# Train the model\n",
    "model.fit(X, y)\n",
    "\n",
    "# Make a prediction for Cyprus\n",
    "print(model.predict(X_new)) # outputs [[6.33333333]]"
   ]
  },
  {
   "cell_type": "markdown",
   "id": "d78d8f40",
   "metadata": {},
   "source": [
    "# Main Challenges of Machine Learning <a id=\"chapter5\"></a>"
   ]
  },
  {
   "cell_type": "markdown",
   "id": "a476a61b",
   "metadata": {},
   "source": [
    "The difference that needs to be addressed is whether the problem will occur due to Bad Data or Bad Models."
   ]
  },
  {
   "cell_type": "markdown",
   "id": "3ae57f14",
   "metadata": {},
   "source": [
    "## Insufficient Quantity of Training Data <a id=\"section_5_1\"></a>"
   ]
  },
  {
   "cell_type": "markdown",
   "id": "aae53819",
   "metadata": {},
   "source": [
    "## Nonrepresentative Training Data <a id=\"section_5_2\"></a>"
   ]
  },
  {
   "cell_type": "markdown",
   "id": "6a24cb25",
   "metadata": {},
   "source": [
    "## Poor-Quality Data <a id=\"section_5_3\"></a>"
   ]
  },
  {
   "cell_type": "markdown",
   "id": "6321b177",
   "metadata": {},
   "source": [
    "## Irrelevant Features <a id=\"section_5_4\"></a>"
   ]
  },
  {
   "cell_type": "markdown",
   "id": "10ad231d",
   "metadata": {},
   "source": [
    "## Overfitting the Training Data <a id=\"section_5_5\"></a>"
   ]
  },
  {
   "cell_type": "markdown",
   "id": "f008c443",
   "metadata": {},
   "source": [
    "## Underfitting the Training Data <a id=\"section_5_6\"></a>"
   ]
  },
  {
   "cell_type": "markdown",
   "id": "116db2b9",
   "metadata": {},
   "source": [
    "## Stepping Back <a id=\"section_5_7\"></a>"
   ]
  },
  {
   "cell_type": "markdown",
   "id": "63adb014",
   "metadata": {},
   "source": [
    "# Testing and Validating <a id=\"chapter6\"></a>"
   ]
  },
  {
   "cell_type": "markdown",
   "id": "af2de551",
   "metadata": {},
   "source": [
    "## Hyperparameter Tuning and Model Selection <a id=\"section_6_1\"></a>"
   ]
  },
  {
   "cell_type": "markdown",
   "id": "9f142a0b",
   "metadata": {},
   "source": [
    "\n",
    "## Data Mismatch <a id=\"section_6_2\"></a>  "
   ]
  }
 ],
 "metadata": {
  "kernelspec": {
   "display_name": "Python 3 (ipykernel)",
   "language": "python",
   "name": "python3"
  },
  "language_info": {
   "codemirror_mode": {
    "name": "ipython",
    "version": 3
   },
   "file_extension": ".py",
   "mimetype": "text/x-python",
   "name": "python",
   "nbconvert_exporter": "python",
   "pygments_lexer": "ipython3",
   "version": "3.9.12"
  }
 },
 "nbformat": 4,
 "nbformat_minor": 5
}
