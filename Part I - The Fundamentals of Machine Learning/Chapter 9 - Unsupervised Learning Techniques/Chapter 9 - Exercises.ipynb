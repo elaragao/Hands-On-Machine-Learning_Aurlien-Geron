{
 "cells": [
  {
   "cell_type": "markdown",
   "id": "3c3ae361-ca8e-4d0b-8aec-934402d69872",
   "metadata": {},
   "source": [
    "# Exercises"
   ]
  },
  {
   "cell_type": "markdown",
   "id": "eec0065d-33df-4396-83f9-1d2550b70ea6",
   "metadata": {},
   "source": [
    "## 1. How would you define clustering? Can you name a few clustering algorithms?"
   ]
  },
  {
   "cell_type": "markdown",
   "id": "a8cab1fd-83b6-42c7-916f-6a87ef75ea29",
   "metadata": {},
   "source": [
    "## 2. What are some of the main applications of clustering algorithms?"
   ]
  },
  {
   "cell_type": "markdown",
   "id": "de4a27c9-1aae-4814-815a-a9718a74598f",
   "metadata": {},
   "source": [
    " \n",
    "## 3. Describe two techniques to select the right number of clusters when using k-means."
   ]
  },
  {
   "cell_type": "markdown",
   "id": "c2146365-d8ba-498c-bd26-4efd0cbad99c",
   "metadata": {},
   "source": [
    "## 4. What is label propagation? Why would you implement it, and how?"
   ]
  },
  {
   "cell_type": "markdown",
   "id": "5ec134c5-4d18-4cb8-885c-1818a03884d6",
   "metadata": {},
   "source": [
    " \n",
    "## 5. Can you name two clustering algorithms that can scale to large datasets? And two that look for regions of high density?"
   ]
  },
  {
   "cell_type": "markdown",
   "id": "e5c1c25e-595d-4f5c-bbf0-661be7dfa149",
   "metadata": {},
   "source": [
    "## 6. Can you think of a use case where active learning would be useful? How would you implement it?"
   ]
  },
  {
   "cell_type": "markdown",
   "id": "9544b6e3-d254-42ef-9858-e7f61ccdb7e6",
   "metadata": {},
   "source": [
    "## 7. What is the difference between anomaly detection and novelty detection?"
   ]
  },
  {
   "cell_type": "markdown",
   "id": "f8955c69-10d8-4934-bf85-22002a143386",
   "metadata": {},
   "source": [
    "## 8. What is a Gaussian mixture? What tasks can you use it for?"
   ]
  },
  {
   "cell_type": "markdown",
   "id": "7fd8888b-ba77-4404-a2e0-2c50d33ec815",
   "metadata": {},
   "source": [
    "## 9. Can you name two techniques to find the right number of clusters when using a Gaussian mixture model?"
   ]
  },
  {
   "cell_type": "markdown",
   "id": "ed18ed9f-aff5-4b02-b7e1-0ec5c9da0b72",
   "metadata": {},
   "source": [
    "## 10. The classic Olivetti faces dataset contains 400 grayscale 64 × 64–pixel images of faces. Each image is flattened to a 1D vector of size 4,096. Forty different people were photographed (10 times each), and the usual task is to train a model that can predict which person is represented in each picture. Load the dataset using the sklearn.datasets.fetch_olivetti_faces() function, then split it into a training set, a validation set, and a test set (note that the dataset is already scaled between 0 and 1). Since the dataset is quite small, you will probably want to use stratified sampling to ensure that there are the same number of images per person in each set. Next, cluster the images using k-means, and ensure that you have a good number of clusters (using one of the techniques discussed in this chapter). Visualize the clusters: do you see similar faces in each cluster?"
   ]
  },
  {
   "cell_type": "markdown",
   "id": "cc79bc46-4bea-47cb-8926-401f96754488",
   "metadata": {},
   "source": [
    "## 11. Continuing with the Olivetti faces dataset, train a classifier to predict which person is represented in each picture, and evaluate it on the validation set. Next, use k-means as a dimensionality reduction tool, and train a classifier on the reduced set. Search for the number of clusters that allows the classifier to get the best performance: what performance can you reach? What if you append the features from the reduced set to the original features (again, searching for the best number of clusters)?"
   ]
  },
  {
   "cell_type": "markdown",
   "id": "b51657cd-5fff-4d4a-bbb8-ba0e6453bfbc",
   "metadata": {},
   "source": [
    "## 12. Train a Gaussian mixture model on the Olivetti faces dataset. To speed up the algorithm, you should probably reduce the dataset’s dimensionality (e.g., use PCA, preserving 99% of the variance). Use the model to generate some new faces (using the sample() method), and visualize them (if you used PCA, you will need to use its inverse_transform() method). Try to modify some images (e.g., rotate, flip, darken) and see if the model can detect the anomalies (i.e., compare the output of the score_samples() method for normal images and for anomalies)."
   ]
  },
  {
   "cell_type": "markdown",
   "id": "5dcf80bf-b77a-451a-997d-8ca004a6b6f0",
   "metadata": {},
   "source": [
    "## 13. Some dimensionality reduction techniques can also be used for anomaly detection. For example, take the Olivetti faces dataset and reduce it with PCA, preserving 99% of the variance. Then compute the reconstruction error for each image. Next, take some of the modified images you built in the previous exercise and look at their reconstruction error: notice how much larger it is. If you plot a reconstructed image, you will see why: it tries to reconstruct a normal face."
   ]
  },
  {
   "cell_type": "code",
   "execution_count": null,
   "id": "7aa68912-8082-431d-b4a9-a3e17aec3ccf",
   "metadata": {},
   "outputs": [],
   "source": []
  },
  {
   "cell_type": "code",
   "execution_count": null,
   "id": "eb58a996-c807-4be3-afbd-d8cdb967067a",
   "metadata": {},
   "outputs": [],
   "source": []
  },
  {
   "cell_type": "code",
   "execution_count": null,
   "id": "8351040a-2d99-48e6-b14c-24e78cf9a548",
   "metadata": {},
   "outputs": [],
   "source": []
  },
  {
   "cell_type": "code",
   "execution_count": null,
   "id": "db4bf7d8-07d3-4fbd-a95f-39425bc5e2d5",
   "metadata": {},
   "outputs": [],
   "source": []
  },
  {
   "cell_type": "code",
   "execution_count": null,
   "id": "17b33648-84d2-4d9a-9b06-619b63aaad9e",
   "metadata": {},
   "outputs": [],
   "source": []
  }
 ],
 "metadata": {
  "kernelspec": {
   "display_name": "Python [conda env:base] *",
   "language": "python",
   "name": "conda-base-py"
  },
  "language_info": {
   "codemirror_mode": {
    "name": "ipython",
    "version": 3
   },
   "file_extension": ".py",
   "mimetype": "text/x-python",
   "name": "python",
   "nbconvert_exporter": "python",
   "pygments_lexer": "ipython3",
   "version": "3.9.21"
  }
 },
 "nbformat": 4,
 "nbformat_minor": 5
}
