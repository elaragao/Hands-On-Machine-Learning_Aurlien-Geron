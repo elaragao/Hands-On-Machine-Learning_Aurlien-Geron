{
 "cells": [
  {
   "cell_type": "markdown",
   "id": "53d5138d",
   "metadata": {},
   "source": [
    "# Exercises"
   ]
  },
  {
   "cell_type": "markdown",
   "id": "b42d9a96",
   "metadata": {},
   "source": [
    "The following exercises are based on this chapter’s housing dataset:"
   ]
  },
  {
   "cell_type": "markdown",
   "id": "67b795a8",
   "metadata": {},
   "source": [
    "### 1. Try a support vector machine regressor (sklearn.svm.SVR) with various hyperparameters, such as kernel=\"linear\" (with various values for the C hyperparameter) or kernel=\"rbf\" (with various values for the C and gamma hyperparameters). Note that support vector machines don’t scale well to large datasets, so you should probably train your model on just the first 5,000 instances of the training set and use only 3-fold cross-validation, or else it will take hours. Don’t worry about what the hyperparameters mean for now; we’ll discuss them in Chapter 5. How does the best SVR predictor perform?"
   ]
  },
  {
   "cell_type": "markdown",
   "id": "ebf03f8b",
   "metadata": {},
   "source": [
    "### 2. Try replacing the GridSearchCV with a RandomizedSearchCV."
   ]
  },
  {
   "cell_type": "markdown",
   "id": "66a89435",
   "metadata": {},
   "source": [
    "### 3. Try adding a SelectFromModel transformer in the preparation pipeline to select only the most important attributes."
   ]
  },
  {
   "cell_type": "markdown",
   "id": "4aafc85e",
   "metadata": {},
   "source": [
    "### 4. Try creating a custom transformer that trains a k-nearest neighbors regressor (sklearn.neighbors.KNeighborsRegressor) in its fit() method, and outputs the model’s predictions in its transform() method. Then add this feature to the preprocessing pipeline, using latitude and longitude as the inputs to this transformer. This will add a feature in the model that corresponds to the housing median price of the nearest districts."
   ]
  },
  {
   "cell_type": "markdown",
   "id": "6fafb58e",
   "metadata": {},
   "source": [
    "### 5. Automatically explore some preparation options using GridSearchCV."
   ]
  },
  {
   "cell_type": "markdown",
   "id": "0fb7a008",
   "metadata": {},
   "source": [
    "### 6. Try to implement the StandardScalerClone class again from scratch, then add support for the inverse_transform() method: executing scaler. inverse_transform(scaler.fit_transform(X)) should return an array very close to X. Then add support for feature names: set feature_names_in_ in the fit() method if the input is a DataFrame. This attribute should be a NumPy array of column names. Lastly, implement the get_feature_names_out() method: it should have one optional input_features=None argument. If passed, the method should check that its length matches n_features_in_, and it should match feature_names_in_ if it is defined; then input_features should be returned. If input_features is None, then the method should either return feature_names_in_ if it is defined or np.array([\"x0\", \"x1\", ...]) with length n_features_in_ otherwise."
   ]
  },
  {
   "cell_type": "code",
   "execution_count": null,
   "id": "8bb66371",
   "metadata": {},
   "outputs": [],
   "source": []
  }
 ],
 "metadata": {
  "kernelspec": {
   "display_name": "Python 3 (ipykernel)",
   "language": "python",
   "name": "python3"
  },
  "language_info": {
   "codemirror_mode": {
    "name": "ipython",
    "version": 3
   },
   "file_extension": ".py",
   "mimetype": "text/x-python",
   "name": "python",
   "nbconvert_exporter": "python",
   "pygments_lexer": "ipython3",
   "version": "3.9.12"
  }
 },
 "nbformat": 4,
 "nbformat_minor": 5
}
