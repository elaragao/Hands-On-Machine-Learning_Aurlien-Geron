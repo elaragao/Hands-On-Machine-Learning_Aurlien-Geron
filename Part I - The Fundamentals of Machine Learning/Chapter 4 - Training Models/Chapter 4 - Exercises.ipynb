{
 "cells": [
  {
   "cell_type": "markdown",
   "id": "3279297d-77af-4e29-ab36-6f499d38a5b3",
   "metadata": {},
   "source": [
    "# Exercises"
   ]
  },
  {
   "cell_type": "markdown",
   "id": "81071126-7938-4b0d-87e9-66e96acfa19a",
   "metadata": {},
   "source": [
    "### 1. Which linear regression training algorithm can you use if you have a training set with millions of features?"
   ]
  },
  {
   "cell_type": "markdown",
   "id": "934e9a94-d1fb-4efc-8fe5-ba9b298581cf",
   "metadata": {},
   "source": [
    "### 2. Suppose the features in your training set have very different scales. Which algorithms might suffer from this, and how? What can you do about it?"
   ]
  },
  {
   "cell_type": "markdown",
   "id": "8209baa9-9477-4412-a9e5-b1653b7a28ab",
   "metadata": {},
   "source": [
    "### 3. Can gradient descent get stuck in a local minimum when training a logistic regression model?"
   ]
  },
  {
   "cell_type": "markdown",
   "id": "4229cf09-1f9d-4090-8669-8e3b0254e87c",
   "metadata": {},
   "source": [
    "### 4. Do all gradient descent algorithms lead to the same model, provided you let them run long enough?\n",
    "    "
   ]
  },
  {
   "cell_type": "markdown",
   "id": "0c2f2b83-4b57-48fa-9ba6-e2f203f0ec9c",
   "metadata": {},
   "source": [
    "### 5. Suppose you use batch gradient descent and you plot the validation error at every epoch. If you notice that the validation error consistently goes up, what is likely going on? How can you fix this?"
   ]
  },
  {
   "cell_type": "markdown",
   "id": "56fa358d-d754-4125-b5fc-de7c01fac09d",
   "metadata": {},
   "source": [
    " \n",
    "### 6. Is it a good idea to stop mini-batch gradient descent immediately when the validation error goes up?"
   ]
  },
  {
   "cell_type": "markdown",
   "id": "f7e8f659-11b1-4664-b118-03691c53fc37",
   "metadata": {},
   "source": [
    "### 7. Which gradient descent algorithm (among those we discussed) will reach the vicinity of the optimal solution the fastest? Which will actually converge? How can you make the others converge as well?"
   ]
  },
  {
   "cell_type": "markdown",
   "id": "a577bad1-6ca0-407e-8a9c-9d73c2943b73",
   "metadata": {},
   "source": [
    "### 8. Suppose you are using polynomial regression. You plot the learning curves and you notice that there is a large gap between the training error and the validation error. What is happening? What are three ways to solve this?"
   ]
  },
  {
   "cell_type": "markdown",
   "id": "b7a582c6-6681-40d3-a59f-3614df6f60ea",
   "metadata": {},
   "source": [
    "### 9. Suppose you are using ridge regression and you notice that the training error and the validation error are almost equal and fairly high. Would you say that the model suffers from high bias or high variance? Should you increase the regularization hyperparameter α or reduce it?"
   ]
  },
  {
   "cell_type": "markdown",
   "id": "19ef9537-e38a-487d-896b-27fc04637deb",
   "metadata": {},
   "source": [
    "### 10. Why would you want to use:\n",
    "#### a. Ridge regression instead of plain li\n",
    "#### b. Lasso instead of ridge regression?\n",
    "#### c. Elastic net instead of lasso regression?"
   ]
  },
  {
   "cell_type": "markdown",
   "id": "2165de1d-e5e2-4912-89ee-622697bc88ce",
   "metadata": {},
   "source": [
    "### 11. Suppose you want to classify pictures as outdoor/indoor and daytime/nighttime. Should you implement two logistic regression classifiers or one softmax regression classifier?"
   ]
  },
  {
   "cell_type": "markdown",
   "id": "74482db7-65ce-4e0e-adae-fafa74afc531",
   "metadata": {},
   "source": [
    "### 12. Implement batch gradient descent with early stopping for softmax regression without using Scikit-Learn, only NumPy. Use it on a classification task such as the iris dataset."
   ]
  },
  {
   "cell_type": "code",
   "execution_count": null,
   "id": "8689f8e8-6ce1-49c0-a560-606cbdd6e4eb",
   "metadata": {},
   "outputs": [],
   "source": []
  },
  {
   "cell_type": "code",
   "execution_count": null,
   "id": "0a7f2086-a54b-4219-ac72-bb7430e90bb9",
   "metadata": {},
   "outputs": [],
   "source": []
  },
  {
   "cell_type": "code",
   "execution_count": null,
   "id": "6f7cad2b-5e47-4865-90d3-8842635705b9",
   "metadata": {},
   "outputs": [],
   "source": []
  }
 ],
 "metadata": {
  "kernelspec": {
   "display_name": "Python [conda env:base] *",
   "language": "python",
   "name": "conda-base-py"
  },
  "language_info": {
   "codemirror_mode": {
    "name": "ipython",
    "version": 3
   },
   "file_extension": ".py",
   "mimetype": "text/x-python",
   "name": "python",
   "nbconvert_exporter": "python",
   "pygments_lexer": "ipython3",
   "version": "3.9.21"
  }
 },
 "nbformat": 4,
 "nbformat_minor": 5
}
