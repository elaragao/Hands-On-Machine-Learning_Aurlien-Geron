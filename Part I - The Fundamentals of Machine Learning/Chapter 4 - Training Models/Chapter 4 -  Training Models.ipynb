{
 "cells": [
  {
   "cell_type": "markdown",
   "id": "dc52118a-5136-46d5-85f3-ad8fd50aaea7",
   "metadata": {},
   "source": [
    "# Training Models\n"
   ]
  },
  {
   "cell_type": "markdown",
   "id": "2d2d799f-b802-4ea6-9b85-35355db1507b",
   "metadata": {},
   "source": [
    "[section title](#section-title)"
   ]
  },
  {
   "cell_type": "code",
   "execution_count": null,
   "id": "584c195d-5138-4b77-8c9c-21f07e50efb6",
   "metadata": {},
   "outputs": [],
   "source": []
  },
  {
   "cell_type": "code",
   "execution_count": null,
   "id": "8e3fcf6d-1a50-4560-8540-8213a4410a04",
   "metadata": {},
   "outputs": [],
   "source": []
  },
  {
   "cell_type": "code",
   "execution_count": 2,
   "id": "d6460fa6-a651-43fe-bb7f-51fc5157cd61",
   "metadata": {},
   "outputs": [],
   "source": [
    "from pathlib import Path\n",
    "\n",
    "IMAGES_PATH = Path() / \"images\" / \"training_linear_models\"\n",
    "IMAGES_PATH.mkdir(parents=True, exist_ok=True)\n",
    "\n",
    "def save_fig(fig_id, tight_layout=True, fig_extension=\"png\", resolution=300):\n",
    "    path = IMAGES_PATH / f\"{fig_id}.{fig_extension}\"\n",
    "    if tight_layout:\n",
    "        plt.tight_layout()\n",
    "    plt.savefig(path, format=fig_extension, dpi=resolution)"
   ]
  },
  {
   "cell_type": "markdown",
   "id": "ad071ac9-1878-4898-8edb-c5122d0bdb78",
   "metadata": {},
   "source": [
    "# Linear Regression"
   ]
  },
  {
   "cell_type": "markdown",
   "id": "606744c7-4ac9-4a8a-8046-2fad8dfb0d1b",
   "metadata": {},
   "source": [
    "**Linear Regression** makes variation by calculating the weighted sum of the input features + the bias term (intercept):\n",
    "\n",
    "$$\n",
    "\\hat{y} = \\theta_{0} + \\theta_{1} x_{1} + \\theta_{2} x_{2} + ... + \\theta_{n} x_{n}\n",
    "$$\n",
    "\n"
   ]
  },
  {
   "cell_type": "markdown",
   "id": "6c63df85-10b9-4498-9599-f6590a1c551d",
   "metadata": {},
   "source": [
    "<details>\n",
    "\n",
    "<summary>Equation terms</summary>\n",
    "\n",
    "- $\\hat{y}$: Is the predicted value.\n",
    "- $\\alpha$: Is the constant value that represents the intercept of the line with the vertical axis.\n",
    "- $\\beta$: Is the slope, the **angular coefficient**.\n",
    "- $X$: Is the independent variable.\n",
    "  \n",
    "</details>"
   ]
  },
  {
   "cell_type": "markdown",
   "id": "3e0aabf8-7373-456e-8a09-75b13c975367",
   "metadata": {},
   "source": [
    "The equation can also be expressed in vectorized form, for simplicity:\n",
    "\n",
    "$$\n",
    "\\hat{y} = h_{\\theta} (x) = \\theta \\cdot x\n",
    "$$\n",
    "\n",
    "Once you have the desired model, you can train it by _adjusting the parameters until they fit the data well_. A common metric for this is the **MSE** (Mean Squared Error).\n",
    "\n",
    "In the following examples, the **MSE** will be used as the _cost function_:\n",
    "\n",
    "$$\n",
    "MSE = \\frac{1}{m} \\sum (\\theta ^{T} x^{(i)} - y^{(i)})^{2}\n",
    "$$"
   ]
  },
  {
   "cell_type": "markdown",
   "id": "38a37491-1082-4e8d-b6fc-6416d6883366",
   "metadata": {},
   "source": [
    "## The Normal Equation <a id=\"Anotherway\"></a>"
   ]
  },
  {
   "cell_type": "markdown",
   "id": "ae862b6c-0633-4704-ae6c-59671baec5b4",
   "metadata": {},
   "source": [
    "The **Normal Equation** is a _closed solution_ (gives the result directly) to find the value of $\\theta$ that minimizes the MSE:\n",
    "\n",
    "$$\n",
    "\\hat{\\theta} = (X^{T} X)^{-1} X^{T} y\n",
    "$$\n",
    "\n",
    "To better visualize, a data similar to the linear one will be created:"
   ]
  },
  {
   "cell_type": "code",
   "execution_count": 8,
   "id": "196d5d09-0887-4472-a233-b8b7e2b38aa4",
   "metadata": {},
   "outputs": [
    {
     "data": {
      "image/png": "[encoded data removed]",
      "text/plain": [
       "<Figure size 600x400 with 1 Axes>"
      ]
     },
     "metadata": {},
     "output_type": "display_data"
    }
   ],
   "source": [
    "import numpy as np\n",
    "\n",
    "np.random.seed(42)  # to make this code example reproducible\n",
    "m = 100  # number of instances\n",
    "X = 2 * np.random.rand(m, 1)  # column vector\n",
    "y = 4 + 3 * X + np.random.randn(m, 1)  # column vector\n",
    "\n",
    "###########################################################\n",
    "\n",
    "import matplotlib.pyplot as plt\n",
    "\n",
    "plt.figure(figsize=(6, 4))\n",
    "plt.plot(X, y, \"b.\")\n",
    "plt.xlabel(\"$x_1$\")\n",
    "plt.ylabel(\"$y$\", rotation=0)\n",
    "plt.axis([0, 2, 0, 15])\n",
    "plt.grid()\n",
    "save_fig(\"generated_data_plot\")\n",
    "plt.show()"
   ]
  },
  {
   "cell_type": "markdown",
   "id": "5881f9c0-60d4-4eb9-b3af-6784278d8a92",
   "metadata": {},
   "source": [
    "Below, we see the representation of the _Normal Equation_ in code format:"
   ]
  },
  {
   "cell_type": "code",
   "execution_count": 10,
   "id": "d023f45e-63d5-44d6-92f6-668da3243622",
   "metadata": {},
   "outputs": [],
   "source": [
    "from sklearn.preprocessing import add_dummy_feature\n",
    "\n",
    "X_b = add_dummy_feature(X)  # add x0 = 1 to each instance\n",
    "theta_best = np.linalg.inv(X_b.T @ X_b) @ X_b.T @ y"
   ]
  },
  {
   "cell_type": "code",
   "execution_count": 11,
   "id": "9a05f459-3ee4-433f-8cd3-c1a8382cae4f",
   "metadata": {},
   "outputs": [
    {
     "data": {
      "text/plain": [
       "array([[4.21509616],\n",
       "       [2.77011339]])"
      ]
     },
     "execution_count": 11,
     "metadata": {},
     "output_type": "execute_result"
    }
   ],
   "source": [
    "theta_best"
   ]
  },
  {
   "cell_type": "markdown",
   "id": "2b8a2ea6-01f8-4eec-a929-719b4997ef66",
   "metadata": {},
   "source": [
    "The values identified were close to the exact value ($3x+ 4$). Is possible to use this value to fit another set:"
   ]
  },
  {
   "cell_type": "code",
   "execution_count": 15,
   "id": "97c55b87-8eab-4dd5-85e3-d2aceec31099",
   "metadata": {},
   "outputs": [
    {
     "data": {
      "text/plain": [
       "array([[4.21509616],\n",
       "       [9.75532293]])"
      ]
     },
     "execution_count": 15,
     "metadata": {},
     "output_type": "execute_result"
    }
   ],
   "source": [
    "X_new = np.array([[0], [2]])\n",
    "X_new_b = add_dummy_feature(X_new)  # add x0 = 1 to each instance\n",
    "y_predict = X_new_b @ theta_best\n",
    "y_predict"
   ]
  },
  {
   "cell_type": "markdown",
   "id": "98e78ae4-efc5-4610-9a9b-9c00c06e8e27",
   "metadata": {},
   "source": [
    " Below we see a graph that demonstrate the result of regression:"
   ]
  },
  {
   "cell_type": "code",
   "execution_count": null,
   "id": "a69e077c-24dc-4618-8636-307b3b0cc578",
   "metadata": {},
   "outputs": [],
   "source": [
    "import matplotlib.pyplot as plt\n",
    "\n",
    "plt.figure(figsize=(6, 4))  # extra code – not needed, just formatting\n",
    "plt.plot(X_new, y_predict, \"r-\", label=\"Predictions\")\n",
    "plt.plot(X, y, \"b.\")\n",
    "\n",
    "# extra code – beautifies and saves Figure 4–2\n",
    "plt.xlabel(\"$x_1$\")\n",
    "plt.ylabel(\"$y$\", rotation=0)\n",
    "plt.axis([0, 2, 0, 15])\n",
    "plt.grid()\n",
    "plt.legend(loc=\"upper left\")\n",
    "save_fig(\"linear_model_predictions_plot\")\n",
    "\n",
    "plt.show()"
   ]
  },
  {
   "cell_type": "markdown",
   "id": "a3f95724-b38b-4725-9718-d03b1be2e497",
   "metadata": {},
   "source": [
    "To perform the same process using `sklearn` is similar:"
   ]
  },
  {
   "cell_type": "code",
   "execution_count": 19,
   "id": "d75d3f91-922b-4d50-a2a4-e4124b74b148",
   "metadata": {},
   "outputs": [
    {
     "data": {
      "text/plain": [
       "(array([4.21509616]), array([[2.77011339]]))"
      ]
     },
     "execution_count": 19,
     "metadata": {},
     "output_type": "execute_result"
    }
   ],
   "source": [
    "from sklearn.linear_model import LinearRegression\n",
    "\n",
    "lin_reg = LinearRegression()\n",
    "lin_reg.fit(X, y)\n",
    "lin_reg.intercept_, lin_reg.coef_"
   ]
  },
  {
   "cell_type": "code",
   "execution_count": 21,
   "id": "f80c0252-1ca0-48a0-bdb5-3054e6fe52c3",
   "metadata": {},
   "outputs": [
    {
     "data": {
      "text/plain": [
       "array([[4.21509616],\n",
       "       [9.75532293]])"
      ]
     },
     "execution_count": 21,
     "metadata": {},
     "output_type": "execute_result"
    }
   ],
   "source": [
    "lin_reg.predict(X_new)"
   ]
  },
  {
   "cell_type": "markdown",
   "id": "c231d1cd-6219-4f17-b38f-81a6bd186bdc",
   "metadata": {},
   "source": [
    "##  Computational Complexity"
   ]
  },
  {
   "cell_type": "markdown",
   "id": "92d950e3-a724-43de-a24b-743386d39d56",
   "metadata": {},
   "source": [
    "#  Gradient Descent"
   ]
  },
  {
   "cell_type": "markdown",
   "id": "1b7fdec7-ddb4-4b6a-b73b-5eaac3081885",
   "metadata": {},
   "source": [
    "**Gradient Descent** interactively adjusts parameters to minimize the cost function.\n",
    "\n",
    "Basically, the algorithm operates by starting randomly, measuring the local gradient of the error function with the parameter $\\theta$ and reducing the _Cost Function_ (MSE) until it converges to a minimum."
   ]
  },
  {
   "cell_type": "markdown",
   "id": "8b3efa4e-a501-45b0-a5ba-f814ae81ce81",
   "metadata": {},
   "source": [
    "Some of the most important parameters of this algorithm are the _number of steps_, which dictates how many steps it will take, and the _Learning Rate_, which determines the size of each step.\n",
    "\n",
    "If the _Learning Rate_ is **too large**, it will pass the _Global Minimum_ and will not converge.\n",
    "\n",
    "If the _Learning Rate_ is **too small**, it will take a long time to converge, or it will not converge to the _Global Minimum_.\n",
    "\n",
    "In some cases, there is both a _Local Minimum_ and a _Global Minimum_, but this does not apply to the MSE case."
   ]
  },
  {
   "cell_type": "markdown",
   "id": "f4e81bb2-4f3e-40c1-8fae-c3c7a4454d3c",
   "metadata": {},
   "source": [
    "## Batch Gradient Descent "
   ]
  },
  {
   "cell_type": "markdown",
   "id": "5832340c-31a0-4201-b426-781031952071",
   "metadata": {},
   "source": [
    "$$\n",
    "\\theta^{(next \\:\\: step)} = \\theta - \\eta \\nabla _{\\theta} MSE(\\theta)\n",
    "$$"
   ]
  },
  {
   "cell_type": "code",
   "execution_count": null,
   "id": "8e50399a-5bb3-40d0-b048-c174cfafe5a0",
   "metadata": {},
   "outputs": [],
   "source": []
  },
  {
   "cell_type": "code",
   "execution_count": null,
   "id": "ebe35f09-780a-4f6b-b0a8-247542aff9c7",
   "metadata": {},
   "outputs": [],
   "source": [
    "import matplotlib as mpl\n",
    "\n",
    "def plot_gradient_descent(theta, eta):\n",
    "    m = len(X_b)\n",
    "    plt.plot(X, y, \"b.\")\n",
    "    n_epochs = 1000\n",
    "    n_shown = 20\n",
    "    theta_path = []\n",
    "    for epoch in range(n_epochs):\n",
    "        if epoch < n_shown:\n",
    "            y_predict = X_new_b @ theta\n",
    "            color = mpl.colors.rgb2hex(plt.cm.OrRd(epoch / n_shown + 0.15))\n",
    "            plt.plot(X_new, y_predict, linestyle=\"solid\", color=color)\n",
    "        gradients = 2 / m * X_b.T @ (X_b @ theta - y)\n",
    "        theta = theta - eta * gradients\n",
    "        theta_path.append(theta)\n",
    "    plt.xlabel(\"$x_1$\")\n",
    "    plt.axis([0, 2, 0, 15])\n",
    "    plt.grid()\n",
    "    plt.title(fr\"$\\eta = {eta}$\")\n",
    "    return theta_path\n",
    "\n",
    "np.random.seed(42)\n",
    "theta = np.random.randn(2, 1)  # random initialization\n",
    "\n",
    "plt.figure(figsize=(10, 4))\n",
    "plt.subplot(131)\n",
    "plot_gradient_descent(theta, eta=0.02)\n",
    "plt.ylabel(\"$y$\", rotation=0)\n",
    "plt.subplot(132)\n",
    "theta_path_bgd = plot_gradient_descent(theta, eta=0.1)\n",
    "plt.gca().axes.yaxis.set_ticklabels([])\n",
    "plt.subplot(133)\n",
    "plt.gca().axes.yaxis.set_ticklabels([])\n",
    "plot_gradient_descent(theta, eta=0.5)\n",
    "save_fig(\"gradient_descent_plot\")\n",
    "plt.show()\n"
   ]
  },
  {
   "cell_type": "code",
   "execution_count": null,
   "id": "03a2414d-cf51-4878-bea0-c99c87e39a1a",
   "metadata": {},
   "outputs": [],
   "source": []
  },
  {
   "cell_type": "markdown",
   "id": "43059e98-7a7a-4a78-84f9-f58afc3424de",
   "metadata": {},
   "source": [
    "## Stochastic Gradient Descent "
   ]
  },
  {
   "cell_type": "markdown",
   "id": "ab3c0b7f-e935-491e-b938-fc767ece93be",
   "metadata": {},
   "source": [
    "## Mini-Batch Gradient Descent "
   ]
  },
  {
   "cell_type": "markdown",
   "id": "d928376d-69f7-47d6-9970-4ece65330c31",
   "metadata": {},
   "source": []
  }
 ],
 "metadata": {
  "kernelspec": {
   "display_name": "Python [conda env:base] *",
   "language": "python",
   "name": "conda-base-py"
  },
  "language_info": {
   "codemirror_mode": {
    "name": "ipython",
    "version": 3
   },
   "file_extension": ".py",
   "mimetype": "text/x-python",
   "name": "python",
   "nbconvert_exporter": "python",
   "pygments_lexer": "ipython3",
   "version": "3.9.21"
  }
 },
 "nbformat": 4,
 "nbformat_minor": 5
}
