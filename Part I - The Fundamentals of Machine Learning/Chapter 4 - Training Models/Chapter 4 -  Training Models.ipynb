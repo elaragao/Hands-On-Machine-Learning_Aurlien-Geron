{
 "cells": [
  {
   "cell_type": "code",
   "execution_count": null,
   "id": "c61af0d8-c26b-41d9-a3e7-502333060417",
   "metadata": {},
   "outputs": [],
   "source": []
  }
 ],
 "metadata": {
  "kernelspec": {
   "display_name": "",
   "name": ""
  },
  "language_info": {
   "name": ""
  }
 },
 "nbformat": 4,
 "nbformat_minor": 5
}
