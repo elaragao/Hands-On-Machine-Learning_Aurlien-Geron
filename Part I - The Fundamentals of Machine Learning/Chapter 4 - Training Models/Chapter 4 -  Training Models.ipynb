{
 "cells": [
  {
   "cell_type": "markdown",
   "id": "dc52118a-5136-46d5-85f3-ad8fd50aaea7",
   "metadata": {},
   "source": [
    "# Training Models\n"
   ]
  },
  {
   "cell_type": "markdown",
   "id": "ad071ac9-1878-4898-8edb-c5122d0bdb78",
   "metadata": {},
   "source": [
    "# Linear Regression"
   ]
  },
  {
   "cell_type": "markdown",
   "id": "606744c7-4ac9-4a8a-8046-2fad8dfb0d1b",
   "metadata": {},
   "source": [
    "**Linear Regression** makes variation by calculating the weighted sum of the input features + the bias term (intercept):\n",
    "\n",
    "$$\n",
    "\\hat{y} = \\theta_{0} + \\theta_{1} x_{1} + \\theta_{2} x_{2} + ... + \\theta_{n} x_{n}\n",
    "$$\n",
    "\n"
   ]
  },
  {
   "cell_type": "markdown",
   "id": "3e0aabf8-7373-456e-8a09-75b13c975367",
   "metadata": {},
   "source": [
    "The equation can also be expressed in vectorized form, for simplicity:\n",
    "\n",
    "$$\n",
    "\\hat{y} = h_{\\theta} (x) = \\theta \\cdot x\n",
    "$$\n",
    "\n",
    "Once you have the desired model, you can train it by _adjusting the parameters until they fit the data well_. A common metric for this is the **MSE** (Mean Squared Error).\n",
    "\n",
    "In the following examples, the **MSE** will be used as the _cost function_:\n",
    "\n",
    "$$\n",
    "MSE = \\frac{1}{m} \\sum (\\theta ^{T} x^{(i)} - y^{(i)})^{2}\n",
    "$$"
   ]
  },
  {
   "cell_type": "markdown",
   "id": "38a37491-1082-4e8d-b6fc-6416d6883366",
   "metadata": {},
   "source": [
    "## The Normal Equation"
   ]
  },
  {
   "cell_type": "markdown",
   "id": "398dd845-5451-4d72-acb6-625a5ef98259",
   "metadata": {},
   "source": []
  }
 ],
 "metadata": {
  "kernelspec": {
   "display_name": "Python [conda env:base] *",
   "language": "python",
   "name": "conda-base-py"
  },
  "language_info": {
   "codemirror_mode": {
    "name": "ipython",
    "version": 3
   },
   "file_extension": ".py",
   "mimetype": "text/x-python",
   "name": "python",
   "nbconvert_exporter": "python",
   "pygments_lexer": "ipython3",
   "version": "3.9.21"
  }
 },
 "nbformat": 4,
 "nbformat_minor": 5
}
