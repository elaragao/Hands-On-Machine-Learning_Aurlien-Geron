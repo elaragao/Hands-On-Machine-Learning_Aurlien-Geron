{
 "cells": [
  {
   "cell_type": "markdown",
   "id": "3098ca36-5874-4cb8-b438-29df81ea742a",
   "metadata": {},
   "source": [
    "# Exercises"
   ]
  },
  {
   "cell_type": "markdown",
   "id": "280162a1-0c4a-45a5-9f89-f3d11ac8f660",
   "metadata": {},
   "source": [
    "## 1. If you have trained five different models on the exact same training data, and they all achieve 95% precision, is there any chance that you can combine these models to get better results? If so, how? If not, why?"
   ]
  },
  {
   "cell_type": "markdown",
   "id": "40de1c74-84c6-4ed9-b7d7-c005d49906de",
   "metadata": {},
   "source": [
    "## 2. What is the difference between hard and soft voting classifiers?\n",
    "\n",
    "\n",
    " "
   ]
  },
  {
   "cell_type": "markdown",
   "id": "7d91306f-0207-4a5a-a449-3f9a91e707e2",
   "metadata": {},
   "source": [
    "## 3. Is it possible to speed up training of a bagging ensemble by distributing it across multiple servers? What about pasting ensembles, boosting ensembles, random forests, or stacking ensembles?\n",
    " "
   ]
  },
  {
   "cell_type": "markdown",
   "id": "481b5f56-f280-4c92-b8d6-08cace1b5f80",
   "metadata": {},
   "source": [
    "## 4. What is the benefit of out-of-bag evaluation?"
   ]
  },
  {
   "cell_type": "markdown",
   "id": "e4530fb0-6181-4f8b-bf8a-95385aa79ff3",
   "metadata": {},
   "source": [
    "## 5. What makes extra-trees ensembles more random than regular random forests? How can this extra randomness help? Are extra-trees classifiers slower or faster than regular random forests?"
   ]
  },
  {
   "cell_type": "markdown",
   "id": "4e7f4f5f-7043-4199-a6bf-dac16c366417",
   "metadata": {},
   "source": [
    "## 6. If your AdaBoost ensemble underfits the training data, which hyperparameters should you tweak, and how?\n",
    "    "
   ]
  },
  {
   "cell_type": "markdown",
   "id": "5600fd80-9627-4836-a718-eae2dadd0819",
   "metadata": {},
   "source": [
    "## 7. If your gradient boosting ensemble overfits the training set, should you increase or decrease the learning rate?"
   ]
  },
  {
   "cell_type": "markdown",
   "id": "3f6477ca-1a6e-417d-b379-9bf4e927969c",
   "metadata": {},
   "source": [
    "## 8. Load the MNIST dataset (introduced in Chapter 3), and split it into a training set, a validation set, and a test set (e.g., use 50,000 instances for training, 10,000 for validation, and 10,000 for testing). Then train various classifiers, such as a random forest classifier, an extra-trees classifier, and an SVM classifier. Next, try to combine them into an ensemble that outperforms each individual classifier on the validation set, using soft or hard voting. Once you have found one, try it on the test set. How much better does it perform compared to the individual classifiers?"
   ]
  },
  {
   "cell_type": "markdown",
   "id": "89d637f4-689c-4eb3-a029-7acb79c6db95",
   "metadata": {},
   "source": [
    "## 9. Run the individual classifiers from the previous exercise to make predictions on the validation set, and create a new training set with the resulting predictions: each training instance is a vector containing the set of predictions from all your classifiers for an image, and the target is the image’s class. Train a classifier on this new training set. Congratulations—you have just trained a blender, and together with the classifiers it forms a stacking ensemble! Now evaluate the ensemble on the test set. For each image in the test set, make predictions with all your classifiers, then feed the predictions to the blender to get the ensemble’s predictions. How does it compare to the voting classifier you trained earlier? Now try again using a StackingClassifier instead. Do you get better performance? If so, why?"
   ]
  },
  {
   "cell_type": "markdown",
   "id": "2d9c4ba8-488a-4aab-9f22-d13fe5b6dca2",
   "metadata": {},
   "source": []
  },
  {
   "cell_type": "markdown",
   "id": "9d500ef3-fdc7-4959-b32d-03e88a56b514",
   "metadata": {},
   "source": []
  }
 ],
 "metadata": {
  "kernelspec": {
   "display_name": "Python [conda env:base] *",
   "language": "python",
   "name": "conda-base-py"
  },
  "language_info": {
   "codemirror_mode": {
    "name": "ipython",
    "version": 3
   },
   "file_extension": ".py",
   "mimetype": "text/x-python",
   "name": "python",
   "nbconvert_exporter": "python",
   "pygments_lexer": "ipython3",
   "version": "3.9.21"
  }
 },
 "nbformat": 4,
 "nbformat_minor": 5
}
