{
 "cells": [
  {
   "cell_type": "markdown",
   "id": "774689b7-1ae9-47b3-a70d-05cd85618793",
   "metadata": {},
   "source": [
    "# Ensemble Learning and Random Forests"
   ]
  },
  {
   "cell_type": "markdown",
   "id": "9729c7ff-c9d9-46e0-8bff-ab0100aa8628",
   "metadata": {},
   "source": [
    "## Voting Classifiers"
   ]
  },
  {
   "cell_type": "markdown",
   "id": "e66f823b-8fbd-4c7d-952a-a0bb9849be76",
   "metadata": {},
   "source": []
  },
  {
   "cell_type": "markdown",
   "id": "5bbc5740-4492-4390-9fe0-631fa312a5c1",
   "metadata": {},
   "source": [
    "## Bagging and Pasting"
   ]
  },
  {
   "cell_type": "markdown",
   "id": "7deaf6fe-35ed-41e6-af6b-24b8dda2a966",
   "metadata": {},
   "source": []
  },
  {
   "cell_type": "markdown",
   "id": "105c5fe8-ccc1-4521-b59d-1d799d0ad4e0",
   "metadata": {},
   "source": [
    "### Bagging and Pasting in Scikit-Learn"
   ]
  },
  {
   "cell_type": "markdown",
   "id": "7d4ce9aa-4845-4998-b2fb-98f3fc0b19b6",
   "metadata": {},
   "source": []
  },
  {
   "cell_type": "markdown",
   "id": "1dede70f-984b-4a1f-84e2-e42418e89b87",
   "metadata": {},
   "source": [
    "### Out-of-Bag Evaluation"
   ]
  },
  {
   "cell_type": "markdown",
   "id": "abb1e9fc-b9f9-4b02-88f0-63ab6456df5a",
   "metadata": {},
   "source": []
  },
  {
   "cell_type": "markdown",
   "id": "16a1de8a-d6fe-4002-b796-3389e18508d0",
   "metadata": {},
   "source": []
  },
  {
   "cell_type": "markdown",
   "id": "d3712990-09ee-4212-9807-8330c6fbc8d5",
   "metadata": {},
   "source": [
    "### Random Patches and Random Subspaces"
   ]
  },
  {
   "cell_type": "markdown",
   "id": "f715de73-5b47-4705-a360-6a5049a33dad",
   "metadata": {},
   "source": []
  },
  {
   "cell_type": "markdown",
   "id": "92e5f8ef-6cd2-4505-8986-77c86650220a",
   "metadata": {},
   "source": []
  },
  {
   "cell_type": "markdown",
   "id": "d12862fc-8465-4034-9e38-7cc749633e5c",
   "metadata": {},
   "source": [
    "## Random Forests"
   ]
  },
  {
   "cell_type": "markdown",
   "id": "19a6d5b2-1bf1-47ef-9551-f8db1e37f012",
   "metadata": {},
   "source": []
  },
  {
   "cell_type": "markdown",
   "id": "c165ec56-76bf-4c05-8a2a-e3ab17ec7216",
   "metadata": {},
   "source": [
    "### Extra-Trees"
   ]
  },
  {
   "cell_type": "markdown",
   "id": "6ff45953-eefd-45ed-835e-eebdff81848f",
   "metadata": {},
   "source": []
  },
  {
   "cell_type": "markdown",
   "id": "1b06304c-de6b-4db6-af7d-fb3c9f68acdb",
   "metadata": {},
   "source": []
  },
  {
   "cell_type": "markdown",
   "id": "91a791b7-1246-4675-8485-294d273082e9",
   "metadata": {},
   "source": [
    "### Feature Importance"
   ]
  },
  {
   "cell_type": "markdown",
   "id": "25fa3727-8efa-438b-8ae4-a8c0e931e325",
   "metadata": {},
   "source": []
  },
  {
   "cell_type": "markdown",
   "id": "aa218cb7-8fa3-45a4-93c5-461ce3adc6fb",
   "metadata": {},
   "source": []
  },
  {
   "cell_type": "markdown",
   "id": "14c5bbcb-8118-4fa3-bc4f-0d0f4929517c",
   "metadata": {},
   "source": [
    "## Boosting"
   ]
  },
  {
   "cell_type": "markdown",
   "id": "5c3776bf-6187-41a4-94bc-6c4071f62d84",
   "metadata": {},
   "source": []
  },
  {
   "cell_type": "markdown",
   "id": "ed21aa83-b6e6-4d73-a044-477b9461efb3",
   "metadata": {},
   "source": []
  },
  {
   "cell_type": "markdown",
   "id": "12e8e379-dfe6-42e3-bf07-2a6da3b813a4",
   "metadata": {},
   "source": [
    "### AdaBoost"
   ]
  },
  {
   "cell_type": "markdown",
   "id": "035cb26b-e543-4b65-a06a-f3a551469d53",
   "metadata": {},
   "source": []
  },
  {
   "cell_type": "markdown",
   "id": "ea8ddb15-f116-4b24-af79-cddf285d66bb",
   "metadata": {},
   "source": []
  },
  {
   "cell_type": "markdown",
   "id": "f438b967-74c8-496a-b01e-c4f93d55ee4c",
   "metadata": {},
   "source": [
    "### Gradient Boosting"
   ]
  },
  {
   "cell_type": "markdown",
   "id": "cc2d0099-ef34-448d-bd33-5b45e370a78a",
   "metadata": {},
   "source": []
  },
  {
   "cell_type": "markdown",
   "id": "ed8ab488-a636-46f9-b977-f84bff7f8ebc",
   "metadata": {},
   "source": []
  },
  {
   "cell_type": "markdown",
   "id": "89bb2705-6feb-480a-98ad-a72def4c29e0",
   "metadata": {},
   "source": [
    "       \n",
    "### Histogram-Based Gradient Boosting"
   ]
  },
  {
   "cell_type": "markdown",
   "id": "8606745c-de59-4fa6-8149-da05ee1d44ef",
   "metadata": {},
   "source": []
  },
  {
   "cell_type": "markdown",
   "id": "4a1e55a5-3cb5-4021-ace1-bdf9baae0748",
   "metadata": {},
   "source": []
  },
  {
   "cell_type": "markdown",
   "id": "0201b019-0143-4405-885d-5616dd6a4052",
   "metadata": {},
   "source": [
    "## Stackin"
   ]
  },
  {
   "cell_type": "markdown",
   "id": "47da275a-c3d9-4524-8659-a4ea0457fb74",
   "metadata": {},
   "source": []
  },
  {
   "cell_type": "markdown",
   "id": "fa87df89-396c-4a58-b3d4-30ad6de1ad64",
   "metadata": {},
   "source": []
  }
 ],
 "metadata": {
  "kernelspec": {
   "display_name": "Python [conda env:base] *",
   "language": "python",
   "name": "conda-base-py"
  },
  "language_info": {
   "codemirror_mode": {
    "name": "ipython",
    "version": 3
   },
   "file_extension": ".py",
   "mimetype": "text/x-python",
   "name": "python",
   "nbconvert_exporter": "python",
   "pygments_lexer": "ipython3",
   "version": "3.9.21"
  }
 },
 "nbformat": 4,
 "nbformat_minor": 5
}
