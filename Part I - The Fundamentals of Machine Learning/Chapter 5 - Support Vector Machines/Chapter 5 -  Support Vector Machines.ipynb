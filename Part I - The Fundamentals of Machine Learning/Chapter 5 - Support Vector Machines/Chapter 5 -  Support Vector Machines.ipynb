{
 "cells": [
  {
   "cell_type": "markdown",
   "id": "f98729f3-7c2f-4b7d-9cb4-fd21b57d2bf9",
   "metadata": {},
   "source": [
    "# Support Vector Machines"
   ]
  },
  {
   "cell_type": "markdown",
   "id": "3a4e74ea-1d18-41eb-ad45-5a809c9e850d",
   "metadata": {},
   "source": [
    "**SVM** (Support Vector Machine) operates in a versatile way, being able to perform linear or non-linear classification, regression and novelty detection. It does not scale well with very large datasets."
   ]
  },
  {
   "cell_type": "markdown",
   "id": "72430eda-171b-40ad-acba-5cbed62b299b",
   "metadata": {},
   "source": [
    "# Linear SVM Classification"
   ]
  },
  {
   "cell_type": "markdown",
   "id": "ed5edaba-9746-43f0-be2f-d59c73bae086",
   "metadata": {},
   "source": [
    "## Soft Margin Classification"
   ]
  },
  {
   "cell_type": "markdown",
   "id": "5fe900e0-5207-4f7a-b2ee-d5c4d4d816ab",
   "metadata": {},
   "source": [
    "# Nonlinear SVM Classification"
   ]
  },
  {
   "cell_type": "markdown",
   "id": "ae6e5c16-f53a-4efe-9b56-e62608cbfa7a",
   "metadata": {},
   "source": [
    "## Polynomial Kernel"
   ]
  },
  {
   "cell_type": "markdown",
   "id": "67a74611-56ed-4268-95d9-1fca8750683e",
   "metadata": {},
   "source": [
    "## Similarity Features"
   ]
  },
  {
   "cell_type": "markdown",
   "id": "bb0ee10f-a3d8-4016-8c05-268541452bf2",
   "metadata": {},
   "source": [
    "## Gaussian RBF Kernel"
   ]
  },
  {
   "cell_type": "markdown",
   "id": "0b890684-d03f-4210-94ac-9ccd6190bcd3",
   "metadata": {},
   "source": [
    "## SVM Classes and Computational Complexity"
   ]
  },
  {
   "cell_type": "markdown",
   "id": "a3ad85cc-34ab-4d04-9981-17865b50ebc7",
   "metadata": {},
   "source": [
    "# SVM Regression"
   ]
  },
  {
   "cell_type": "markdown",
   "id": "15f00089-f125-4e8d-a555-eb4aeaacae78",
   "metadata": {},
   "source": [
    "# Under the Hood of Linear SVM Classifiers"
   ]
  },
  {
   "cell_type": "markdown",
   "id": "930e4864-4f2c-443a-bb34-2508f321a809",
   "metadata": {},
   "source": [
    "# The Dual Problem "
   ]
  },
  {
   "cell_type": "markdown",
   "id": "8292cf11-9572-43fd-946a-5fe84bb0109e",
   "metadata": {},
   "source": [
    "## Kernelized SVMs "
   ]
  },
  {
   "cell_type": "markdown",
   "id": "05d9e5c7-a02a-4912-8292-c322234e2d06",
   "metadata": {},
   "source": []
  }
 ],
 "metadata": {
  "kernelspec": {
   "display_name": "Python [conda env:base] *",
   "language": "python",
   "name": "conda-base-py"
  },
  "language_info": {
   "codemirror_mode": {
    "name": "ipython",
    "version": 3
   },
   "file_extension": ".py",
   "mimetype": "text/x-python",
   "name": "python",
   "nbconvert_exporter": "python",
   "pygments_lexer": "ipython3",
   "version": "3.9.21"
  }
 },
 "nbformat": 4,
 "nbformat_minor": 5
}
