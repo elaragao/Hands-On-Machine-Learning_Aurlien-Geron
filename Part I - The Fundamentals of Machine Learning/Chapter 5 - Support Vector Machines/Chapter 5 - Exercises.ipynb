{
 "cells": [
  {
   "cell_type": "markdown",
   "id": "e834cfae-fdf0-4f36-8fc9-0451a07a06ef",
   "metadata": {},
   "source": [
    "# Exercises"
   ]
  },
  {
   "cell_type": "markdown",
   "id": "4c4d5b60-01c2-4ac0-ae7d-863c5df2f30d",
   "metadata": {},
   "source": [
    "## 1. What is the fundamental idea behind support vector machines?"
   ]
  },
  {
   "cell_type": "markdown",
   "id": "0baf9457-5ece-4266-aa7d-2bfe70e17ac3",
   "metadata": {},
   "source": [
    "## 2. What is a support vector?"
   ]
  },
  {
   "cell_type": "markdown",
   "id": "5aeb8da7-06f6-4477-b760-66858346c371",
   "metadata": {},
   "source": [
    "## 3. Why is it important to scale the inputs when using SVMs?"
   ]
  },
  {
   "cell_type": "markdown",
   "id": "adeae16f-79e6-45f5-a7bb-778f281b32d6",
   "metadata": {},
   "source": [
    " ## 4. Can an SVM classifier output a confidence score when it classifies an instance?  What about a probability?"
   ]
  },
  {
   "cell_type": "markdown",
   "id": "988016c3-626b-4179-8123-c1be9a0a45b5",
   "metadata": {},
   "source": [
    "## 5. How can you choose between LinearSVC, SVC, and SGDClassifier?"
   ]
  },
  {
   "cell_type": "markdown",
   "id": "581fd071-d758-4066-800d-e263e9c80c49",
   "metadata": {},
   "source": [
    "## 6. Say you’ve trained an SVM classifier with an RBF kernel, but it seems to underfit the training set. Should you increase or decrease γ (gamma)? What about C?"
   ]
  },
  {
   "cell_type": "markdown",
   "id": "e45ade61-a09c-44f3-b0d9-61e2458fd88c",
   "metadata": {},
   "source": [
    "## 7. What does it mean for a model to be ϵ-insensitive?"
   ]
  },
  {
   "cell_type": "markdown",
   "id": "734e1ff2-9035-4b6c-afbe-071a23a980fd",
   "metadata": {},
   "source": [
    "## 8. What is the point of using the kernel trick?"
   ]
  },
  {
   "cell_type": "markdown",
   "id": "f2ddc8ae-7b8c-46fb-8cc8-7d1c59bcaf00",
   "metadata": {},
   "source": [
    "## 9. Train a LinearSVC on a linearly separable dataset. Then train an SVC and a  SGDClassifier on the same dataset. See if you can get them to produce roughly the same model."
   ]
  },
  {
   "cell_type": "markdown",
   "id": "d331f2af-46e3-4f2a-92f0-854c2765620c",
   "metadata": {},
   "source": [
    "## 10. Train an SVM classifier on the wine dataset, which you can load using sklearn.datasets.load_wine(). This dataset contains the chemical analyses of 178 wine samples produced by 3 different cultivators: the goal is to train a classification model capable of predicting the cultivator based on the wine’s chemical analysis. Since SVM classifiers are binary classifiers, you will need to use one-versus-all to classify all three classes. What accuracy can you reach?"
   ]
  },
  {
   "cell_type": "markdown",
   "id": "662202bd-35df-45fc-bae0-4bd70281c458",
   "metadata": {},
   "source": [
    "## 11. Train and fine-tune an SVM regressor on the California housing dataset. You can use the original dataset rather than the tweaked version we used in Chapter 2, which you can load using sklearn.datasets.fetch_california_housing(). The targets represent hundreds of thousands of dollars. Since there are over 20,000 instances, SVMs can be slow, so for hyperparameter tuning you should use far fewer instances (e.g., 2,000) to test many more hyperparameter combinations. What is your best model’s RMSE?"
   ]
  }
 ],
 "metadata": {
  "kernelspec": {
   "display_name": "Python [conda env:base] *",
   "language": "python",
   "name": "conda-base-py"
  },
  "language_info": {
   "codemirror_mode": {
    "name": "ipython",
    "version": 3
   },
   "file_extension": ".py",
   "mimetype": "text/x-python",
   "name": "python",
   "nbconvert_exporter": "python",
   "pygments_lexer": "ipython3",
   "version": "3.9.21"
  }
 },
 "nbformat": 4,
 "nbformat_minor": 5
}
