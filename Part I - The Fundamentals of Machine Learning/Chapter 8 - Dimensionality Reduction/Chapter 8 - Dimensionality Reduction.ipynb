{
 "cells": [
  {
   "cell_type": "markdown",
   "id": "60dda2a0-2774-4607-9232-07d322347f3b",
   "metadata": {},
   "source": [
    "# Dimensionality Reduction"
   ]
  },
  {
   "cell_type": "code",
   "execution_count": null,
   "id": "70b0eb79-918a-4da7-8627-dd1d35c7eeac",
   "metadata": {},
   "outputs": [],
   "source": []
  },
  {
   "cell_type": "markdown",
   "id": "ab9089de-4bc7-4244-befe-c6bf23c1bc86",
   "metadata": {},
   "source": [
    "## The Curse of Dimensionality"
   ]
  },
  {
   "cell_type": "code",
   "execution_count": null,
   "id": "c95f0a25-1ed6-4dcd-b5b9-3d239f1dcd33",
   "metadata": {},
   "outputs": [],
   "source": []
  },
  {
   "cell_type": "code",
   "execution_count": null,
   "id": "7af9f6fa-2ea3-473e-bdbb-4f0aba344705",
   "metadata": {},
   "outputs": [],
   "source": []
  },
  {
   "cell_type": "markdown",
   "id": "cd92bf83-ccbf-4aaf-b150-9b4980415aeb",
   "metadata": {},
   "source": [
    "## Main Approaches for Dimensionality Reduction"
   ]
  },
  {
   "cell_type": "code",
   "execution_count": null,
   "id": "9fbc085e-42e2-4d0b-b6e3-34bdb6657c60",
   "metadata": {},
   "outputs": [],
   "source": []
  },
  {
   "cell_type": "code",
   "execution_count": null,
   "id": "50c6382b-6819-4c1c-a269-9f81ba602df2",
   "metadata": {},
   "outputs": [],
   "source": []
  },
  {
   "cell_type": "markdown",
   "id": "72b1d631-1225-4b93-bc1a-fce658990e1d",
   "metadata": {},
   "source": [
    "### Projection"
   ]
  },
  {
   "cell_type": "code",
   "execution_count": null,
   "id": "6e22c534-eda0-492e-abec-8d5e0c01eea1",
   "metadata": {},
   "outputs": [],
   "source": []
  },
  {
   "cell_type": "code",
   "execution_count": null,
   "id": "d19ce9f3-0c87-4c0c-aa1f-e8ed9088c9ff",
   "metadata": {},
   "outputs": [],
   "source": []
  },
  {
   "cell_type": "markdown",
   "id": "b4b9fa5b-9ee4-4898-b7ff-a40a9d45d827",
   "metadata": {},
   "source": [
    "### Manifold Learning"
   ]
  },
  {
   "cell_type": "code",
   "execution_count": null,
   "id": "88301ba2-7a62-47f1-9276-14263c654956",
   "metadata": {},
   "outputs": [],
   "source": []
  },
  {
   "cell_type": "code",
   "execution_count": null,
   "id": "1c8a41be-4b75-41e0-8ccb-5eebdc5a793b",
   "metadata": {},
   "outputs": [],
   "source": []
  },
  {
   "cell_type": "markdown",
   "id": "1311d61c-21ea-4356-b31c-6b835e34e2aa",
   "metadata": {},
   "source": [
    "## PCA"
   ]
  },
  {
   "cell_type": "markdown",
   "id": "88b50b45-099d-40bd-a3c8-b7fe5fa62fd2",
   "metadata": {},
   "source": [
    "**Principal Component Analysis** (PCA) identifies the closest hiperplane to the data and projectthe data in the hiperplane."
   ]
  },
  {
   "cell_type": "markdown",
   "id": "562583f7-8cfc-48df-bc3d-f041610dcbde",
   "metadata": {},
   "source": [
    "### Preserving the Variance"
   ]
  },
  {
   "cell_type": "code",
   "execution_count": null,
   "id": "6f4be821-2f31-4ead-8f6a-e8a8aa1d3b5b",
   "metadata": {},
   "outputs": [],
   "source": []
  },
  {
   "cell_type": "code",
   "execution_count": null,
   "id": "3bd64138-f194-450c-a2e9-f26a0ea5cc8c",
   "metadata": {},
   "outputs": [],
   "source": []
  },
  {
   "cell_type": "markdown",
   "id": "7f467f98-1ee8-4d46-beab-f955bfd7521e",
   "metadata": {},
   "source": [
    "### Principal Components"
   ]
  },
  {
   "cell_type": "code",
   "execution_count": null,
   "id": "02224557-c041-4827-84a7-12b6be4d751a",
   "metadata": {},
   "outputs": [],
   "source": []
  },
  {
   "cell_type": "code",
   "execution_count": null,
   "id": "6d183d6d-b561-43a0-bd19-3431ae7d4652",
   "metadata": {},
   "outputs": [],
   "source": []
  },
  {
   "cell_type": "markdown",
   "id": "f3e23a2d-e1e0-4a9b-be93-f387436a54ee",
   "metadata": {},
   "source": [
    "### Projecting Down to d Dimensions"
   ]
  },
  {
   "cell_type": "code",
   "execution_count": null,
   "id": "89648570-69a6-4579-89ab-df2303de058a",
   "metadata": {},
   "outputs": [],
   "source": []
  },
  {
   "cell_type": "code",
   "execution_count": null,
   "id": "e97b35fd-dca8-4092-bb4d-b4f9e1ab44dd",
   "metadata": {},
   "outputs": [],
   "source": []
  },
  {
   "cell_type": "markdown",
   "id": "b0df9624-3a5e-42c0-9795-9a3fcb8bb720",
   "metadata": {},
   "source": [
    "### Using Scikit-Learn"
   ]
  },
  {
   "cell_type": "code",
   "execution_count": null,
   "id": "47db064f-daeb-44b2-bb16-183c78e9eb6a",
   "metadata": {},
   "outputs": [],
   "source": []
  },
  {
   "cell_type": "code",
   "execution_count": null,
   "id": "748002d4-8590-4c6a-9124-0cf7ab8031c5",
   "metadata": {},
   "outputs": [],
   "source": []
  },
  {
   "cell_type": "markdown",
   "id": "a31dfe76-387d-43bf-baf6-67c85f0ed605",
   "metadata": {},
   "source": [
    "### Explained Variance Ratio"
   ]
  },
  {
   "cell_type": "code",
   "execution_count": null,
   "id": "57b5befa-77e9-4ed3-9005-d0fbb8544daf",
   "metadata": {},
   "outputs": [],
   "source": []
  },
  {
   "cell_type": "code",
   "execution_count": null,
   "id": "67fdf40f-04fe-4f6e-94e1-34e1b70d2bd6",
   "metadata": {},
   "outputs": [],
   "source": []
  },
  {
   "cell_type": "markdown",
   "id": "1a7d41d4-dfbb-4a36-bf3d-bcf49289f9e4",
   "metadata": {},
   "source": [
    "### Choosing the Right Number of Dimensions"
   ]
  },
  {
   "cell_type": "code",
   "execution_count": null,
   "id": "1c61b605-3a70-4331-a841-8f21fc90591f",
   "metadata": {},
   "outputs": [],
   "source": []
  },
  {
   "cell_type": "code",
   "execution_count": null,
   "id": "4a60741e-a6c3-4526-9f07-a5ef98cde9a2",
   "metadata": {},
   "outputs": [],
   "source": []
  },
  {
   "cell_type": "markdown",
   "id": "a5afc3a2-42bb-4a8b-bc15-ad4d4ef1d5e1",
   "metadata": {},
   "source": [
    "### PCA for Compression"
   ]
  },
  {
   "cell_type": "code",
   "execution_count": null,
   "id": "d0d6a05f-48d1-4ecb-8986-2656de6510d2",
   "metadata": {},
   "outputs": [],
   "source": []
  },
  {
   "cell_type": "code",
   "execution_count": null,
   "id": "ad89d499-8df2-4ea2-882c-f49301a4432d",
   "metadata": {},
   "outputs": [],
   "source": []
  },
  {
   "cell_type": "markdown",
   "id": "796c4495-b1be-4fba-89e0-fb5e19849102",
   "metadata": {},
   "source": [
    "## Randomized PCA"
   ]
  },
  {
   "cell_type": "code",
   "execution_count": null,
   "id": "1631fcef-0942-45e5-94cb-80ea8afcee90",
   "metadata": {},
   "outputs": [],
   "source": []
  },
  {
   "cell_type": "code",
   "execution_count": null,
   "id": "901b666a-234a-49bf-b974-d1d6f2bc66c4",
   "metadata": {},
   "outputs": [],
   "source": []
  },
  {
   "cell_type": "markdown",
   "id": "d8bcd42f-21f5-4071-8b61-547e077f7254",
   "metadata": {},
   "source": [
    "## Incremental PCA"
   ]
  },
  {
   "cell_type": "code",
   "execution_count": null,
   "id": "bf9a10b5-ac1f-4b8f-8e2c-af7f051acfd4",
   "metadata": {},
   "outputs": [],
   "source": []
  },
  {
   "cell_type": "markdown",
   "id": "730024cf-cbfd-42a9-a0e4-9d05c1322357",
   "metadata": {},
   "source": [
    "## Random Projection"
   ]
  },
  {
   "cell_type": "code",
   "execution_count": null,
   "id": "56577e32-bc3c-4eaf-885e-bbb383ea55cc",
   "metadata": {},
   "outputs": [],
   "source": []
  },
  {
   "cell_type": "code",
   "execution_count": null,
   "id": "1ef34549-89d7-448a-b350-2c4aa87f5687",
   "metadata": {},
   "outputs": [],
   "source": []
  },
  {
   "cell_type": "markdown",
   "id": "ccecce0d-dd05-4fac-b604-3b257f51e2ca",
   "metadata": {},
   "source": [
    "## LLE"
   ]
  },
  {
   "cell_type": "code",
   "execution_count": null,
   "id": "638c5a18-406d-4c06-a490-eba474bb97fc",
   "metadata": {},
   "outputs": [],
   "source": []
  },
  {
   "cell_type": "code",
   "execution_count": null,
   "id": "c39a047b-3b13-4445-9a55-308544d1de2d",
   "metadata": {},
   "outputs": [],
   "source": []
  },
  {
   "cell_type": "markdown",
   "id": "6615bc08-342c-4cf0-92c8-0ccff95c71d1",
   "metadata": {},
   "source": [
    "## Other Dimensionality Reduction Techniques"
   ]
  },
  {
   "cell_type": "code",
   "execution_count": null,
   "id": "fbbe6e0e-9841-4c33-ae7d-72c729e27cfa",
   "metadata": {},
   "outputs": [],
   "source": []
  },
  {
   "cell_type": "code",
   "execution_count": null,
   "id": "5b0dac6c-2ba8-4756-b9c9-d25431f4ad02",
   "metadata": {},
   "outputs": [],
   "source": []
  }
 ],
 "metadata": {
  "kernelspec": {
   "display_name": "Python [conda env:base] *",
   "language": "python",
   "name": "conda-base-py"
  },
  "language_info": {
   "codemirror_mode": {
    "name": "ipython",
    "version": 3
   },
   "file_extension": ".py",
   "mimetype": "text/x-python",
   "name": "python",
   "nbconvert_exporter": "python",
   "pygments_lexer": "ipython3",
   "version": "3.9.21"
  }
 },
 "nbformat": 4,
 "nbformat_minor": 5
}
