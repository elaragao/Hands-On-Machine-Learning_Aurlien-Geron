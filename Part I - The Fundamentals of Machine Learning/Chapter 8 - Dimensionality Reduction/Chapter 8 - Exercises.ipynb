{
 "cells": [
  {
   "cell_type": "markdown",
   "id": "b3d0da7d-9244-4825-9ace-5b5c8e3bdec8",
   "metadata": {},
   "source": [
    "# Exercises"
   ]
  },
  {
   "cell_type": "markdown",
   "id": "cb75cf59-7e96-4938-97a3-b4c6a0c0fbf5",
   "metadata": {},
   "source": [
    "## 1. What are the main motivations for reducing a dataset’s dimensionality? What are the main drawbacks?"
   ]
  },
  {
   "cell_type": "markdown",
   "id": "cf74b98b-41c2-4a8c-91bd-14c95ae30682",
   "metadata": {},
   "source": [
    "## 2. What is the curse of dimensionality?"
   ]
  },
  {
   "cell_type": "markdown",
   "id": "59ccee6e-289e-47fe-8fc3-0cc97e22e0b3",
   "metadata": {},
   "source": [
    "## 3. Once a dataset’s dimensionality has been reduced, is it possible to reverse the operation? If so, how? If not, why?"
   ]
  },
  {
   "cell_type": "markdown",
   "id": "13b4b06f-a78d-44a1-b393-74f2473b9566",
   "metadata": {},
   "source": [
    "## 4. Can PCA be used to reduce the dimensionality of a highly nonlinear dataset?"
   ]
  },
  {
   "cell_type": "markdown",
   "id": "428214ad-abc8-4896-b4cc-5a86d5794054",
   "metadata": {},
   "source": [
    "## 5. Suppose you perform PCA on a 1,000-dimensional dataset, setting the explained variance ratio to 95%. How many dimensions will the resulting dataset have?"
   ]
  },
  {
   "cell_type": "markdown",
   "id": "f08ecdb4-1f84-414e-8903-9a1e8af380c3",
   "metadata": {},
   "source": [
    "## 6. In what cases would you use regular PCA, incremental PCA, randomized PCA, or random projection?"
   ]
  },
  {
   "cell_type": "markdown",
   "id": "1586f96f-04e0-479a-b827-5afbbca2ceb1",
   "metadata": {},
   "source": [
    "## 7. How can you evaluate the performance of a dimensionality reduction algorithm on your dataset?"
   ]
  },
  {
   "cell_type": "markdown",
   "id": "cc693ed7-0491-4680-8831-3b43c9f9464a",
   "metadata": {},
   "source": [
    "## 8. Does it make any sense to chain two different dimensionality reduction algorithms?"
   ]
  },
  {
   "cell_type": "markdown",
   "id": "f46556a9-b574-442f-8536-f43ce9b3b97d",
   "metadata": {},
   "source": [
    "## 9. Load the MNIST dataset (introduced in Chapter 3) and split it into a training set and a test set (take the first 60,000 instances for training, and the remaining 10,000 for testing). Train a random forest classifier on the dataset and time how long it takes, then evaluate the resulting model on the test set. Next, use PCA to reduce the dataset’s dimensionality, with an explained variance ratio of 95%. Train a new random forest classifier on the reduced dataset and see how long it takes. Was training much faster? Next, evaluate the classifier on the test set. How does it compare to the previous classifier? Try again with an SGDClassifier. How much does PCA help now?"
   ]
  },
  {
   "cell_type": "markdown",
   "id": "c680a932-ac2a-4d5b-bfa9-cffa51230e50",
   "metadata": {},
   "source": [
    "## 10. Use t-SNE to reduce the first 5,000 images of the MNIST dataset down to 2 dimensions and plot the result using Matplotlib. You can use a scatterplot using 10 different colors to represent each image’s target class. Alternatively, you can replace each dot in the scatterplot with the corresponding instance’s class (a digit from 0 to 9), or even plot scaled-down versions of the digit images themselves (if you plot all digits the visualization will be too cluttered, so you should either draw a random sample or plot an instance only if no other instance has already been plotted at a close distance). You should get a nice visualization with wellseparated clusters of digits. Try using other dimensionality reduction algorithms, such as PCA, LLE, or MDS, and compare the resulting visualizations."
   ]
  }
 ],
 "metadata": {
  "kernelspec": {
   "display_name": "Python [conda env:base] *",
   "language": "python",
   "name": "conda-base-py"
  },
  "language_info": {
   "codemirror_mode": {
    "name": "ipython",
    "version": 3
   },
   "file_extension": ".py",
   "mimetype": "text/x-python",
   "name": "python",
   "nbconvert_exporter": "python",
   "pygments_lexer": "ipython3",
   "version": "3.9.21"
  }
 },
 "nbformat": 4,
 "nbformat_minor": 5
}
