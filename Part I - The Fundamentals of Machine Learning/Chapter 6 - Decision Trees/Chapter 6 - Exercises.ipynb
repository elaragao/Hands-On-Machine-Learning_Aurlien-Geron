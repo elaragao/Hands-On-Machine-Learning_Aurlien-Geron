{
 "cells": [
  {
   "cell_type": "markdown",
   "id": "8d3abcf2-d8af-4855-a3c1-7ff97e24a04f",
   "metadata": {},
   "source": [
    "# Exercises"
   ]
  },
  {
   "cell_type": "markdown",
   "id": "f334ca33-153d-45de-a8c4-f0be8306be5d",
   "metadata": {},
   "source": [
    "## 1. What is the approximate depth of a decision tree trained (without restrictions) on a training set with one million instances?"
   ]
  },
  {
   "cell_type": "markdown",
   "id": "25fa26c1-cdb3-43ad-a70d-330869ac6037",
   "metadata": {},
   "source": [
    "## 2. Is a node’s Gini impurity generally lower or higher than its parent’s? Is it generally lower/higher, or always lower/higher?"
   ]
  },
  {
   "cell_type": "markdown",
   "id": "a8cd9291-dfac-4a16-9ac3-ee460b4fe8c1",
   "metadata": {},
   "source": [
    "## 3. If a decision tree is overfitting the training set, is it a good idea to try decreasing max_depth?\n",
    " "
   ]
  },
  {
   "cell_type": "markdown",
   "id": "8dc55515-7919-4b9c-96da-f63a7759cb5d",
   "metadata": {},
   "source": [
    "## 4. If a decision tree is underfitting the training set, is it a good idea to try scaling the input features?"
   ]
  },
  {
   "cell_type": "markdown",
   "id": "f429b3c3-72dd-43c7-86d6-40a4f0c71d71",
   "metadata": {},
   "source": [
    "## 5. If it takes one hour to train a decision tree on a training set containing one million instances, roughly how much time will it take to train another decision tree on a training set containing ten million instances? Hint: consider the CART algorithm’s computational complexity."
   ]
  },
  {
   "cell_type": "markdown",
   "id": "3a95c89c-a0f1-40e1-be4e-ad79fa877e40",
   "metadata": {},
   "source": [
    " \n",
    "## 6. If it takes one hour to train a decision tree on a given training set, roughly how much time will it take if you double the number of features?"
   ]
  },
  {
   "cell_type": "markdown",
   "id": "e6d420dd-d103-452b-86d5-4286037f5519",
   "metadata": {},
   "source": [
    "## 7. Train and fine-tune a decision tree for the moons dataset by following these steps:"
   ]
  },
  {
   "cell_type": "markdown",
   "id": "43c12b21-751d-4611-8200-cb45c8abf05c",
   "metadata": {},
   "source": [
    "### a. Use make_moons(n_samples=10000, noise=0.4) to generate a moons dataset.\n",
    " "
   ]
  },
  {
   "cell_type": "markdown",
   "id": "c1fbfc0d-e6cd-4941-9fa6-dfd2e1a62201",
   "metadata": {},
   "source": [
    "###  b. Use train_test_split() to split the dataset into a training set and a test set."
   ]
  },
  {
   "cell_type": "markdown",
   "id": "26042e22-03c8-4f94-80a8-c9ff3e2b196c",
   "metadata": {},
   "source": [
    "###  c. Use grid search with cross-validation (with the help of the GridSearchCV class) to find good hyperparameter values for a DecisionTreeClassifier. Hint: try various values for max_leaf_nodes.\n",
    " "
   ]
  },
  {
   "cell_type": "markdown",
   "id": "8bb0064c-8174-4a79-902b-b5caa78c6288",
   "metadata": {},
   "source": [
    "###  d. Train it on the full training set using these hyperparameters, and measure your model’s performance on the test set. You should get roughly 85% to 87% accuracy.\n",
    " "
   ]
  },
  {
   "cell_type": "markdown",
   "id": "e02aeb16-16df-496f-8ef5-197d7e9a9076",
   "metadata": {},
   "source": [
    "## 8. Grow a forest by following these steps:\n",
    " "
   ]
  },
  {
   "cell_type": "markdown",
   "id": "2819a9d7-781e-407b-9b4b-a90e661fa446",
   "metadata": {},
   "source": [
    "###  a. Continuing the previous exercise, generate 1,000 subsets of the training set, each containing 100 instances selected randomly. Hint: you can use ScikitLearn’s ShuffleSplit class for this.\n",
    " "
   ]
  },
  {
   "cell_type": "markdown",
   "id": "ff91626f-8898-4f71-9dec-27c865925879",
   "metadata": {},
   "source": [
    "###  b. Train one decision tree on each subset, using the best hyperparameter values found in the previous exercise. Evaluate these 1,000 decision trees on the test set. Since they were trained on smaller sets, these decision trees will likely perform worse than the first decision tree, achieving only about 80% accuracy.\n",
    " "
   ]
  },
  {
   "cell_type": "markdown",
   "id": "113c5ce9-47fd-48fe-a002-7c64b928dd38",
   "metadata": {},
   "source": [
    "###  c. Now comes the magic. For each test set instance, generate the predictions of the 1,000 decision trees, and keep only the most frequent prediction (you can use SciPy’s mode() function for this). This approach gives you majority-vote predictions over the test set.\n",
    " "
   ]
  },
  {
   "cell_type": "markdown",
   "id": "799933e4-c190-49d3-af28-f91839e36b74",
   "metadata": {},
   "source": [
    "###  d. Evaluate these predictions on the test set: you should obtain a slightly higher accuracy than your first model (about 0.5 to 1.5% higher). Congratulations, you have trained a random forest classifier!"
   ]
  },
  {
   "cell_type": "markdown",
   "id": "3d68cbe9-72b1-4c0c-9065-6b34914eae07",
   "metadata": {},
   "source": []
  }
 ],
 "metadata": {
  "kernelspec": {
   "display_name": "Python [conda env:base] *",
   "language": "python",
   "name": "conda-base-py"
  },
  "language_info": {
   "codemirror_mode": {
    "name": "ipython",
    "version": 3
   },
   "file_extension": ".py",
   "mimetype": "text/x-python",
   "name": "python",
   "nbconvert_exporter": "python",
   "pygments_lexer": "ipython3",
   "version": "3.9.21"
  }
 },
 "nbformat": 4,
 "nbformat_minor": 5
}
