{
 "cells": [
  {
   "cell_type": "markdown",
   "id": "64ab4575-36d8-45fe-8296-4c1ab94c620f",
   "metadata": {},
   "source": [
    "# Introduction to Artificial Neural Networks with Keras"
   ]
  },
  {
   "cell_type": "markdown",
   "id": "724881f1-5e9b-4e67-a14b-8cfb000632bd",
   "metadata": {},
   "source": [
    "## From Biological to Artificial Neurons "
   ]
  },
  {
   "cell_type": "markdown",
   "id": "49889ab7-cecc-41fc-945d-dce1f8959d60",
   "metadata": {},
   "source": []
  },
  {
   "cell_type": "markdown",
   "id": "ae390047-56be-4201-992f-0245067aa3ed",
   "metadata": {},
   "source": []
  },
  {
   "cell_type": "markdown",
   "id": "3b707974-9b10-4a52-a896-f50467b9ad40",
   "metadata": {},
   "source": [
    "### Biological Neurons "
   ]
  },
  {
   "cell_type": "markdown",
   "id": "830f4f7b-be0f-4c27-ad46-49c467b0a8c9",
   "metadata": {},
   "source": []
  },
  {
   "cell_type": "markdown",
   "id": "26b0865c-91f0-43cd-b1a3-a2aeb3a95875",
   "metadata": {},
   "source": []
  },
  {
   "cell_type": "markdown",
   "id": "1bfc709b-a4b1-4eca-baa5-06d6d0fd1442",
   "metadata": {},
   "source": [
    "### Logical Computations with Neurons "
   ]
  },
  {
   "cell_type": "markdown",
   "id": "72914fe2-381c-4595-97d1-d4c3c11cabdd",
   "metadata": {},
   "source": []
  },
  {
   "cell_type": "markdown",
   "id": "19ddd18d-1ea7-490f-ab0e-16d534d9efd1",
   "metadata": {},
   "source": []
  },
  {
   "cell_type": "markdown",
   "id": "29717291-a8b1-43c3-a904-cc2a33af8aa3",
   "metadata": {},
   "source": [
    "### The Perceptron "
   ]
  },
  {
   "cell_type": "markdown",
   "id": "6d2bbf79-48ab-492a-a6bb-11a38f3de76e",
   "metadata": {},
   "source": []
  },
  {
   "cell_type": "markdown",
   "id": "74e70cbb-54cb-4879-8849-f3ac13cdeeba",
   "metadata": {},
   "source": []
  },
  {
   "cell_type": "markdown",
   "id": "c6d18d68-ef93-4f25-bcbd-79eec895842a",
   "metadata": {},
   "source": [
    "### The Multilayer Perceptron and Backpropagation "
   ]
  },
  {
   "cell_type": "markdown",
   "id": "e758b1b0-cc27-4824-8dae-cfedb13c38b3",
   "metadata": {},
   "source": []
  },
  {
   "cell_type": "markdown",
   "id": "5eb45893-6a84-4793-8014-b15254a60ce6",
   "metadata": {},
   "source": []
  },
  {
   "cell_type": "markdown",
   "id": "d6785a64-658d-4009-90bb-5b06942bc265",
   "metadata": {},
   "source": [
    "### Regression MLPs "
   ]
  },
  {
   "cell_type": "markdown",
   "id": "bd18fc44-f8e3-4698-9c09-a6a9758faf35",
   "metadata": {},
   "source": []
  },
  {
   "cell_type": "markdown",
   "id": "2159e68e-71dd-40cd-9ecd-71eb156c56a6",
   "metadata": {},
   "source": []
  },
  {
   "cell_type": "markdown",
   "id": "5f47dabc-f456-45c8-ac9a-59e4375a607b",
   "metadata": {},
   "source": [
    "### Classification MLPs "
   ]
  },
  {
   "cell_type": "markdown",
   "id": "c0952ebd-cd2e-49a5-b7a7-441d108720ca",
   "metadata": {},
   "source": []
  },
  {
   "cell_type": "markdown",
   "id": "3bb19c8b-a4d3-4e36-b7d2-2b1733f4a194",
   "metadata": {},
   "source": []
  },
  {
   "cell_type": "markdown",
   "id": "2593b993-af22-4a03-91b8-fd5b8290923a",
   "metadata": {},
   "source": []
  },
  {
   "cell_type": "markdown",
   "id": "242d4609-4859-44df-b3eb-3a9f06eead58",
   "metadata": {},
   "source": []
  },
  {
   "cell_type": "markdown",
   "id": "d2dbee1b-5c67-4fdf-be38-64349eec2063",
   "metadata": {},
   "source": []
  },
  {
   "cell_type": "markdown",
   "id": "2557375a-8959-45f6-8ada-c80f29246283",
   "metadata": {},
   "source": [
    "## Implementing MLPs with Keras"
   ]
  },
  {
   "cell_type": "markdown",
   "id": "4105ccd4-ae9a-4f3b-be5e-d9903fd54a38",
   "metadata": {},
   "source": []
  },
  {
   "cell_type": "markdown",
   "id": "a380e237-23f4-4a83-9f67-50b2f8587afd",
   "metadata": {},
   "source": []
  },
  {
   "cell_type": "markdown",
   "id": "4227508f-c281-4ad2-a91e-ca6ae6bb29f0",
   "metadata": {},
   "source": [
    "### Building an Image Classifier Using the Sequential API "
   ]
  },
  {
   "cell_type": "markdown",
   "id": "c19abaa1-d5d0-4239-8d23-82108322d2fc",
   "metadata": {},
   "source": []
  },
  {
   "cell_type": "markdown",
   "id": "557bf1a5-8274-4704-be6d-90a6f03b313b",
   "metadata": {},
   "source": []
  },
  {
   "cell_type": "markdown",
   "id": "57316068-725a-4f5c-95ea-cf4424f37fe2",
   "metadata": {},
   "source": [
    "### Building a Regression MLP Using the Sequential API "
   ]
  },
  {
   "cell_type": "markdown",
   "id": "8622dab9-3902-44a2-8551-07e8c47adaaf",
   "metadata": {},
   "source": []
  },
  {
   "cell_type": "markdown",
   "id": "3748566b-a5fd-45e4-b050-b0d608268ba5",
   "metadata": {},
   "source": []
  },
  {
   "cell_type": "markdown",
   "id": "acd19c1b-583e-404d-9e1a-e631a8991e84",
   "metadata": {},
   "source": [
    "### Building Complex Models Using the Functional API "
   ]
  },
  {
   "cell_type": "markdown",
   "id": "99c01aea-14af-4027-a454-07dde2c48aa8",
   "metadata": {},
   "source": []
  },
  {
   "cell_type": "markdown",
   "id": "544477e9-bc2b-4bd5-ae8b-dfefd2b71419",
   "metadata": {},
   "source": []
  },
  {
   "cell_type": "markdown",
   "id": "7d33b0d2-49a5-4e7d-90b3-9ab9e558562d",
   "metadata": {},
   "source": [
    "### Using the Subclassing API to Build Dynamic Models "
   ]
  },
  {
   "cell_type": "markdown",
   "id": "d6659b6d-a796-462b-884e-8fb7e583421c",
   "metadata": {},
   "source": []
  },
  {
   "cell_type": "markdown",
   "id": "0860f0b1-fbb0-49b1-ac28-0ffedc2f8884",
   "metadata": {},
   "source": []
  },
  {
   "cell_type": "markdown",
   "id": "8939d657-e99c-4f70-acbc-6ece37f716a8",
   "metadata": {},
   "source": [
    "### Saving and Restoring a Model "
   ]
  },
  {
   "cell_type": "markdown",
   "id": "cc8e97d5-3d9d-40b1-ae7c-1dce8b2e5616",
   "metadata": {},
   "source": []
  },
  {
   "cell_type": "markdown",
   "id": "e6443a71-0f65-4c49-8d05-0c897ad909de",
   "metadata": {},
   "source": []
  },
  {
   "cell_type": "markdown",
   "id": "0725387d-f314-4be4-84af-28262dbe9081",
   "metadata": {},
   "source": [
    "### Using Callbacks "
   ]
  },
  {
   "cell_type": "markdown",
   "id": "71002fb8-27e5-4f51-ba9c-fdd3481cded6",
   "metadata": {},
   "source": []
  },
  {
   "cell_type": "markdown",
   "id": "577eafc1-74bb-4a75-b367-3a387ff692c4",
   "metadata": {},
   "source": []
  },
  {
   "cell_type": "markdown",
   "id": "7b6e94b2-379c-4018-854e-fba69adfb3c9",
   "metadata": {},
   "source": [
    "### Using TensorBoard for Visualization "
   ]
  },
  {
   "cell_type": "markdown",
   "id": "b0887f09-129b-4313-939e-4b18e791c801",
   "metadata": {},
   "source": []
  },
  {
   "cell_type": "markdown",
   "id": "0f1d1300-64ce-4c4c-a379-3a43c0cc1d74",
   "metadata": {},
   "source": []
  },
  {
   "cell_type": "markdown",
   "id": "40a588c6-9b40-499b-bb92-a06a0f30812e",
   "metadata": {},
   "source": [
    "## Fine-Tuning Neural Network Hyperparameters "
   ]
  },
  {
   "cell_type": "markdown",
   "id": "bea1bbe6-24f8-4d41-8358-055aa731d813",
   "metadata": {},
   "source": []
  },
  {
   "cell_type": "markdown",
   "id": "cf5c4ef4-ac55-43af-ad24-a88a109d2969",
   "metadata": {},
   "source": []
  },
  {
   "cell_type": "markdown",
   "id": "6cf3087d-4731-4f4e-9a42-1287f1e78cb0",
   "metadata": {},
   "source": [
    "### Number of Hidden Layers "
   ]
  },
  {
   "cell_type": "markdown",
   "id": "070ba023-01e6-42a2-82e7-6480ce8d069a",
   "metadata": {},
   "source": []
  },
  {
   "cell_type": "markdown",
   "id": "c80b213c-e9b5-478e-8a69-52e7555797b6",
   "metadata": {},
   "source": []
  },
  {
   "cell_type": "markdown",
   "id": "796c898b-0c30-4ec5-8807-102fd3c5fe61",
   "metadata": {},
   "source": []
  },
  {
   "cell_type": "markdown",
   "id": "5de12321-155b-4f70-9bfb-359c57290ded",
   "metadata": {},
   "source": [
    "### Number of Neurons per Hidden Layer "
   ]
  },
  {
   "cell_type": "markdown",
   "id": "3f5b7f12-0941-4c42-8486-de4680db261f",
   "metadata": {},
   "source": []
  },
  {
   "cell_type": "markdown",
   "id": "1bfdfb37-aaca-44c8-b45e-03b5b16210ec",
   "metadata": {},
   "source": []
  },
  {
   "cell_type": "markdown",
   "id": "ad15fae7-e511-4c61-91e8-1a495b2a2299",
   "metadata": {},
   "source": [
    "### Learning Rate, Batch Size, and Other Hyperparameters "
   ]
  },
  {
   "cell_type": "markdown",
   "id": "18d778cb-2c37-4357-85a7-27504ea60afd",
   "metadata": {},
   "source": []
  },
  {
   "cell_type": "markdown",
   "id": "1c4861cf-9941-4f52-a40b-f9dc3caea1bf",
   "metadata": {},
   "source": []
  },
  {
   "cell_type": "markdown",
   "id": "1633255f-44d3-4162-af1f-b3ac32392c07",
   "metadata": {},
   "source": []
  }
 ],
 "metadata": {
  "kernelspec": {
   "display_name": "Python [conda env:base] *",
   "language": "python",
   "name": "conda-base-py"
  },
  "language_info": {
   "codemirror_mode": {
    "name": "ipython",
    "version": 3
   },
   "file_extension": ".py",
   "mimetype": "text/x-python",
   "name": "python",
   "nbconvert_exporter": "python",
   "pygments_lexer": "ipython3",
   "version": "3.9.21"
  }
 },
 "nbformat": 4,
 "nbformat_minor": 5
}
